{
 "cells": [
  {
   "cell_type": "code",
   "execution_count": 1,
   "id": "2befbca9",
   "metadata": {},
   "outputs": [
    {
     "name": "stderr",
     "output_type": "stream",
     "text": [
      "\u001b[34m\u001b[1mwandb\u001b[0m: \u001b[33mWARNING\u001b[0m If you're specifying your api key in code, ensure this code is not shared publicly.\n",
      "\u001b[34m\u001b[1mwandb\u001b[0m: \u001b[33mWARNING\u001b[0m Consider setting the WANDB_API_KEY environment variable, or running `wandb login` from the command line.\n",
      "\u001b[34m\u001b[1mwandb\u001b[0m: Appending key for api.wandb.ai to your netrc file: /home/rahul_e_dev/.netrc\n",
      "\u001b[34m\u001b[1mwandb\u001b[0m: Currently logged in as: \u001b[33mrahul-e-dev\u001b[0m to \u001b[32mhttps://api.wandb.ai\u001b[0m. Use \u001b[1m`wandb login --relogin`\u001b[0m to force relogin\n"
     ]
    },
    {
     "data": {
      "text/plain": [
       "True"
      ]
     },
     "execution_count": 1,
     "metadata": {},
     "output_type": "execute_result"
    }
   ],
   "source": [
    "import sys\n",
    "\n",
    "sys.path.append('../')\n",
    "\n",
    "import os\n",
    "import random\n",
    "\n",
    "import lightning as L\n",
    "import numpy as np\n",
    "import torch\n",
    "from chemprop import data, featurizers, models, nn\n",
    "# from data import ConstrastiveDataModule, ExemplarDataset\n",
    "from dotenv import load_dotenv\n",
    "from lightning.pytorch.callbacks.early_stopping import EarlyStopping\n",
    "from lightning.pytorch.callbacks.model_checkpoint import ModelCheckpoint\n",
    "from lightning.pytorch.loggers import WandbLogger\n",
    "from torch.utils.data import DataLoader\n",
    "from tqdm.auto import tqdm\n",
    "from pytorch_lightning.utilities import move_data_to_device\n",
    "\n",
    "import wandb\n",
    "# from commons.data import load_and_split_gsk_dataset\n",
    "\n",
    "RANDOM_SEED = 42\n",
    "\n",
    "def set_seeds(seed):\n",
    "    random.seed(seed)\n",
    "    np.random.seed(seed)\n",
    "    torch.manual_seed(seed)\n",
    "    torch.cuda.manual_seed_all(seed)\n",
    "\n",
    "set_seeds(RANDOM_SEED)\n",
    "\n",
    "load_dotenv('.env.secret')\n",
    "wandb.login(key='cf344975eb80edf6f0d52af80528cc6094234caf')"
   ]
  },
  {
   "cell_type": "code",
   "execution_count": 2,
   "id": "3ae6ec71",
   "metadata": {},
   "outputs": [],
   "source": [
    "import pandas as pd\n",
    "import rdkit.Chem as Chem\n",
    "from rdkit.rdBase import BlockLogs\n",
    "from sklearn.model_selection import GroupShuffleSplit\n",
    "from commons.utils import get_scaffold, standardize\n",
    "\n",
    "\n",
    "def mol_to_inchi(mol):\n",
    "    with BlockLogs():\n",
    "        return Chem.MolToInchi(mol)\n",
    "\n",
    "\n",
    "def load_and_split_gsk_dataset(path, RANDOM_SEED):\n",
    "    df = pd.read_csv(path)\n",
    "    df = df.iloc[:, 1:]\n",
    "    df.columns = [\"smiles\", \"per_inhibition\"]\n",
    "\n",
    "    # standardize and convert to inchi\n",
    "    df[\"mol\"] = df[\"smiles\"].map(standardize)\n",
    "    df = df.dropna(subset=[\"mol\"])\n",
    "    df[\"inchi\"] = df[\"mol\"].map(mol_to_inchi)\n",
    "    df = df.groupby([\"inchi\"]).filter(lambda x: len(x) == 1).reset_index(drop=True)\n",
    "\n",
    "    clusters, _ = pd.factorize(\n",
    "        df[\"mol\"]\n",
    "        .map(Chem.MolToSmiles)  # type: ignore\n",
    "        .map(get_scaffold)\n",
    "    )\n",
    "    clusters = pd.Series(clusters)\n",
    "\n",
    "    df = df.drop([\"smiles\", \"inchi\"], axis=1)\n",
    "\n",
    "    splitter = GroupShuffleSplit(n_splits=1, random_state=RANDOM_SEED)\n",
    "    train_idxs, val_test_idxs = next(splitter.split(df, groups=clusters))\n",
    "    df_train = df.loc[train_idxs].reset_index(drop=True)\n",
    "    df_val_test = df.loc[val_test_idxs].reset_index(drop=True)\n",
    "    clusters_val_test = clusters.iloc[val_test_idxs].reset_index(drop=True)\n",
    "\n",
    "    splitter = GroupShuffleSplit(n_splits=1, random_state=RANDOM_SEED, test_size=0.5)\n",
    "    val_idxs, test_idxs = next(splitter.split(df_val_test, groups=clusters_val_test))\n",
    "    df_val = df_val_test.loc[val_idxs].reset_index(drop=True)\n",
    "    df_test = df_val_test.loc[test_idxs].reset_index(drop=True)\n",
    "\n",
    "    return df_train, df_val, df_test"
   ]
  },
  {
   "cell_type": "code",
   "execution_count": 3,
   "id": "0c794f60",
   "metadata": {},
   "outputs": [],
   "source": [
    "df_train, df_val, df_test = load_and_split_gsk_dataset(\"../GSK_HepG2.csv\", RANDOM_SEED)"
   ]
  },
  {
   "cell_type": "code",
   "execution_count": 4,
   "id": "cea35eed",
   "metadata": {},
   "outputs": [],
   "source": [
    "W = 2"
   ]
  },
  {
   "cell_type": "code",
   "execution_count": 5,
   "id": "fdb9caf0",
   "metadata": {},
   "outputs": [],
   "source": [
    "def mine_hard_and_negatives(\n",
    "    all_embeds: torch.Tensor,\n",
    "    all_targets: torch.Tensor,\n",
    "    w,\n",
    "    n_candidates=31,\n",
    "    n_hard=16\n",
    "):\n",
    "    # print(type(all_embeds))\n",
    "    device = all_embeds.device\n",
    "    B = all_embeds.shape[0]\n",
    "    n_rand = n_candidates - n_hard\n",
    "\n",
    "    logits = w(all_embeds) @ all_embeds.T\n",
    "\n",
    "    target_closness_mask = (all_targets.view(-1, 1) - all_targets).abs() <= W\n",
    "    # assign -inf to any values entries present in target_closness_mask\n",
    "    logits[target_closness_mask] = float(\"-inf\")\n",
    "\n",
    "    _, hard_candidate_idxs = torch.topk(\n",
    "        logits, k=n_hard, dim=1, largest=True, sorted=False\n",
    "    )\n",
    "\n",
    "    # generate a probability matrix where we assign 0 probability to entries either present in\n",
    "    # target_closness_mask or they were selected as hard negatives\n",
    "    rand_candidates_selection = torch.where(~target_closness_mask, 1.0, float(\"-inf\"))\n",
    "    row_idxs = torch.arange(B, device=device).unsqueeze(1).expand(-1, n_hard)\n",
    "    # assign any hard negative candidates with 0 probability\n",
    "    rand_candidates_selection[row_idxs, hard_candidate_idxs] = float(\"-inf\")\n",
    "    rand_candidates_selection_prob = rand_candidates_selection.softmax(dim=-1)\n",
    "    rand_candidate_idxs = torch.multinomial(\n",
    "        rand_candidates_selection_prob, n_rand, replacement=False\n",
    "    )\n",
    "\n",
    "    candidate_idxs = torch.cat([hard_candidate_idxs, rand_candidate_idxs], dim=-1)\n",
    "    assert candidate_idxs.shape == (logits.shape[0], n_candidates)\n",
    "    return candidate_idxs"
   ]
  },
  {
   "cell_type": "code",
   "execution_count": 6,
   "id": "45e44506",
   "metadata": {},
   "outputs": [],
   "source": [
    "from torch.utils.data import Dataset\n",
    "from typing import NamedTuple\n",
    "from chemprop.data.datasets import Datum\n",
    "from chemprop.data.collate import TrainingBatch, collate_batch\n",
    "from itertools import chain\n",
    "\n",
    "\n",
    "class ContrastiveDataPoint(NamedTuple):\n",
    "    anchor: Datum\n",
    "    candidates: list[Datum]\n",
    "\n",
    "\n",
    "class ContrastiveDataset(Dataset):\n",
    "    def __init__(self, mols, targets, n_candidates=31, n_hard=16):\n",
    "        self.mols = mols\n",
    "        self.targets = targets\n",
    "        self.featurizer = featurizers.SimpleMoleculeMolGraphFeaturizer()\n",
    "\n",
    "        self.n_candidates = n_candidates\n",
    "        self.n_hard = n_hard\n",
    "        self.n_random = n_candidates - n_hard\n",
    "\n",
    "    def build_init_candidates(self):\n",
    "        # build initial candidates as random\n",
    "        selection_mat = torch.ones(len(self.targets), len(self.targets))\n",
    "        selection_mat.fill_diagonal_(float(\"-inf\"))\n",
    "        selection_prob = selection_mat.softmax(dim=-1)\n",
    "        rand_idxs = torch.multinomial(\n",
    "            selection_prob, self.n_candidates, replacement=False\n",
    "        )\n",
    "        self.candidates = rand_idxs.numpy()\n",
    "\n",
    "    def get_pos_candidate_idx(self, idx):\n",
    "        anchor_target = self.targets[idx]\n",
    "        mask = (self.targets - anchor_target).abs() <= W\n",
    "        valid_idxs = np.argwhere(mask).squeeze()\n",
    "        N = valid_idxs.shape[0] \n",
    "        while True:\n",
    "            selected_idx = int(valid_idxs[random.randint(0, N - 1)])\n",
    "            if selected_idx != idx:\n",
    "                return selected_idx\n",
    "\n",
    "    def get_datum(self, idx):\n",
    "        mg = self.featurizer(self.mols[idx])\n",
    "        target = self.targets[[idx]].to_numpy()\n",
    "        return data.datasets.Datum(mg, None, None, target, 1.0, None, None)\n",
    "\n",
    "    def __getitem__(self, idx):\n",
    "        return ContrastiveDataPoint(\n",
    "            self.get_datum(idx),\n",
    "            (\n",
    "                [self.get_datum(self.get_pos_candidate_idx(idx))] + \n",
    "                [self.get_datum(int(c_idx)) for c_idx in self.candidates[idx]]\n",
    "            )\n",
    "        )\n",
    "\n",
    "    def __len__(self):\n",
    "        return len(self.mols)\n",
    "\n",
    "\n",
    "class ContrastiveTrainingBatch(NamedTuple):\n",
    "    anchor: TrainingBatch\n",
    "    candidates: TrainingBatch\n",
    "    B: int\n",
    "    C: int\n",
    "\n",
    "\n",
    "def collate_contrastive(batch):\n",
    "    batch_anchors, batch_candidates = zip(*batch)\n",
    "    B = len(batch)\n",
    "    C = len(batch_candidates[0])\n",
    "    batch_anchors = collate_batch(batch_anchors)\n",
    "    batch_candidates = collate_batch(chain.from_iterable(batch_candidates))\n",
    "    return ContrastiveTrainingBatch(\n",
    "        batch_anchors, batch_candidates, B=B, C=C\n",
    "    )\n",
    "\n",
    "\n",
    "class SimpleDataPoint(NamedTuple):\n",
    "    anchor: Datum\n",
    "\n",
    "class SimpleDataset(Dataset):\n",
    "    def __init__(self, mols, targets):\n",
    "        self.mols = mols\n",
    "        self.targets = targets\n",
    "        self.featurizer = featurizers.SimpleMoleculeMolGraphFeaturizer()\n",
    "\n",
    "    def get_datum(self, idx):\n",
    "        mg = self.featurizer(self.mols[idx])\n",
    "        target = self.targets[[idx]].to_numpy()\n",
    "        return data.datasets.Datum(mg, None, None, target, 1.0, None, None)\n",
    "\n",
    "    def __getitem__(self, idx):\n",
    "        return self.get_datum(idx)\n",
    "\n",
    "    def __len__(self):\n",
    "        return len(self.mols)\n",
    "    \n",
    "\n",
    "# class SimpleBatch(NamedTuple):\n",
    "#     anchor: TrainingBatch\n",
    "\n",
    "\n",
    "# def collate_simple(batch):\n",
    "#     batch_anchors = collate_batch(batch)\n",
    "#     return SimpleBatch(batch_anchors)"
   ]
  },
  {
   "cell_type": "code",
   "execution_count": 7,
   "id": "36472972",
   "metadata": {},
   "outputs": [],
   "source": [
    "class ConstrastiveDataModule(L.LightningDataModule):\n",
    "    def __init__(self, df_train, df_val) -> None:\n",
    "        super().__init__()\n",
    "        self.df_train = df_train\n",
    "        self.df_val = df_val\n",
    "        self.batch_size=16\n",
    "\n",
    "    def setup(self, stage=None):\n",
    "        self.train_ds = ContrastiveDataset(\n",
    "            self.df_train[\"mol\"], \n",
    "            self.df_train[\"per_inhibition\"]\n",
    "        )\n",
    "        self.val_ds = ContrastiveDataset(\n",
    "            self.df_val[\"mol\"], \n",
    "            self.df_val[\"per_inhibition\"]\n",
    "        )\n",
    "\n",
    "        self.train_ds.build_init_candidates()\n",
    "        self.val_ds.build_init_candidates()\n",
    "\n",
    "    def train_dataloader(self):\n",
    "        return DataLoader(\n",
    "            self.train_ds,\n",
    "            batch_size=self.batch_size,\n",
    "            shuffle=True,\n",
    "            collate_fn=collate_contrastive,\n",
    "            num_workers=8,\n",
    "        )\n",
    "\n",
    "    def val_dataloader(self):\n",
    "        return DataLoader(\n",
    "            self.val_ds,\n",
    "            batch_size=self.batch_size,\n",
    "            shuffle=False,\n",
    "            collate_fn=collate_contrastive,\n",
    "            num_workers=8,\n",
    "        )\n",
    "\n",
    "    def update_train_dataset_neg_candidates(self, candidate_idxs: torch.Tensor):\n",
    "        assert candidate_idxs.shape[0] == self.df_train.shape[0]\n",
    "        self.train_ds.candidates = candidate_idxs.cpu().numpy()\n",
    "\n",
    "    def update_val_dataset_neg_candidates(self, candidate_idxs: torch.Tensor):\n",
    "        assert candidate_idxs.shape[0] == self.df_val.shape[0], (candidate_idxs.shape, self.df_val.shape)\n",
    "        self.val_ds.candidates = candidate_idxs.cpu().numpy()"
   ]
  },
  {
   "cell_type": "code",
   "execution_count": 8,
   "id": "10435d52",
   "metadata": {},
   "outputs": [],
   "source": [
    "from typing import Any, Iterable\n",
    "from chemprop.nn import Aggregation, ChempropMetric, MessagePassing, Predictor\n",
    "from chemprop.nn.transforms import ScaleTransform\n",
    "import pytorch_lightning as pl\n",
    "\n",
    "\n",
    "class ContrastiveMPNN(models.MPNN):\n",
    "    def __init__(\n",
    "        self,\n",
    "        message_passing: MessagePassing,\n",
    "        agg: Aggregation,\n",
    "        predictor: Predictor,\n",
    "        batch_norm: bool = False,\n",
    "        metrics: Iterable[ChempropMetric] | None = None,\n",
    "        warmup_epochs: int = 2,\n",
    "        init_lr: float = 0.0001,\n",
    "        max_lr: float = 0.001,\n",
    "        final_lr: float = 0.0001,\n",
    "        X_d_transform: ScaleTransform | None = None,\n",
    "    ):\n",
    "        super().__init__(\n",
    "            message_passing,\n",
    "            agg,\n",
    "            predictor,\n",
    "            batch_norm,\n",
    "            metrics,\n",
    "            warmup_epochs,\n",
    "            init_lr,\n",
    "            max_lr,\n",
    "            final_lr,\n",
    "            X_d_transform,\n",
    "        )\n",
    "        self.loss_fn = torch.nn.CrossEntropyLoss()\n",
    "        self.w = torch.nn.Linear(300, 300)\n",
    "\n",
    "    # # @override\n",
    "    # def encoding(self, bmg, V_d=None, X_d=None, i=-1):\n",
    "    #     return torch.nn.functional.normalize(\n",
    "    #         super().encoding(bmg, V_d, X_d),\n",
    "    #         dim=-1\n",
    "    #     )\n",
    "\n",
    "\n",
    "    def embed_simple_batch(self, batch: TrainingBatch):\n",
    "        bmg, V_d, X_d, target, _, _, _ = batch\n",
    "        Z_anchor = self.encoding(bmg, V_d, X_d)\n",
    "        return dict(embeds=Z_anchor, targets=target)\n",
    "\n",
    "\n",
    "    def training_step(self, batch: ContrastiveTrainingBatch, batch_idx):  # type: ignore\n",
    "        B, C = batch.B, batch.C\n",
    "\n",
    "        bmg, V_d, X_d, target_anchor, _, _, _ = batch.anchor\n",
    "        Z_anchor = self.encoding(bmg, V_d, X_d)\n",
    "\n",
    "        bmg, V_d, X_d, target_candidates, _, _, _ = batch.candidates\n",
    "        Z_candidates = self.encoding(bmg, V_d, X_d)\n",
    "\n",
    "        Z_anchor = Z_anchor.view((B, 1, -1))  # (B X 1 X d)\n",
    "        Z_candidates = Z_candidates.view((B, C, -1))  # (B X d X C)\n",
    "        # (B X 1 X d)  x  (B X d X C) --> B X 1 X C --> B X C\n",
    "        logits = (self.w(Z_anchor) @ Z_candidates.transpose(1, 2)).view(B, -1)\n",
    "        labels = torch.zeros(B).long().to(self.device)\n",
    "        loss = self.loss_fn(logits, labels)\n",
    "\n",
    "        self.log(\"train_loss\", loss, batch_size=B, prog_bar=True, on_epoch=True)\n",
    "        return loss\n",
    "\n",
    "    def validation_step(self, batch: ContrastiveTrainingBatch, batch_idx):  # type: ignore\n",
    "        B, C = batch.B, batch.C\n",
    "\n",
    "        bmg, V_d, X_d, target_anchor, _, _, _ = batch.anchor\n",
    "        Z_anchor = self.encoding(bmg, V_d, X_d)\n",
    "\n",
    "        bmg, V_d, X_d, target_candidates, _, _, _ = batch.candidates\n",
    "        Z_candidates = self.encoding(bmg, V_d, X_d)\n",
    "\n",
    "        Z_anchor = Z_anchor.view((B, 1, -1))  # (B X 1 X d)\n",
    "        Z_candidates = Z_candidates.view((B, C, -1))  # (B X d X C)\n",
    "        # (B X 1 X d)  x  (B X d X C) --> B X 1 X C --> B X C\n",
    "        logits = (self.w(Z_anchor) @ Z_candidates.transpose(1, 2)).view(B, -1)\n",
    "        labels = torch.zeros(B).long().to(self.device)\n",
    "        loss = self.loss_fn(logits, labels)\n",
    "\n",
    "        self.log(\"val_loss\", loss, batch_size=B)\n",
    "        return loss\n",
    "\n",
    "    def get_candidates(self, dl: DataLoader, stage_str: str):\n",
    "        all_embeds = []\n",
    "        all_targets = []\n",
    "        with torch.no_grad():\n",
    "            for batch in tqdm(dl, desc=f\"Mining {stage_str}:\", leave=False):\n",
    "                batch = move_data_to_device(batch, \"cuda\")\n",
    "                res = self.trainer.model.embed_simple_batch(batch)  # type: ignore\n",
    "\n",
    "                all_embeds.append(res[\"embeds\"])\n",
    "                all_targets.append(res[\"targets\"])\n",
    "\n",
    "        all_embeds = torch.cat(all_embeds)\n",
    "        all_targets = torch.cat(all_targets)\n",
    "        return mine_hard_and_negatives(all_embeds.squeeze(), all_targets.squeeze(), self.trainer.model.w)\n",
    "\n",
    "    def on_train_epoch_start(self):\n",
    "        ds = SimpleDataset(\n",
    "            self.trainer.datamodule.df_train[\"mol\"],  # type: ignore\n",
    "            self.trainer.datamodule.df_train[\"per_inhibition\"],  # type: ignore\n",
    "        )\n",
    "        dl = DataLoader(\n",
    "            ds,\n",
    "            collate_fn=collate_batch,\n",
    "            batch_size=self.trainer.datamodule.batch_size, # type: ignore\n",
    "            shuffle=False,\n",
    "        )\n",
    "        neg_candidate_idxs = self.get_candidates(dl, \"Train\")\n",
    "        self.trainer.datamodule.update_train_dataset_neg_candidates(  # type: ignore\n",
    "            neg_candidate_idxs.to(\"cpu\")\n",
    "        )\n",
    "\n",
    "    def on_validation_epoch_start(self):\n",
    "        ds = SimpleDataset(\n",
    "            self.trainer.datamodule.df_val[\"mol\"],  # type: ignore\n",
    "            self.trainer.datamodule.df_val[\"per_inhibition\"],  # type: ignore\n",
    "        )\n",
    "        dl = DataLoader(\n",
    "            ds,\n",
    "            collate_fn=collate_batch,\n",
    "            batch_size=self.trainer.datamodule.batch_size, # type: ignore\n",
    "            shuffle=False,\n",
    "        )\n",
    "        neg_candidate_idxs = self.get_candidates(dl, \"Val\")\n",
    "        self.trainer.datamodule.update_val_dataset_neg_candidates(  # type: ignore\n",
    "            neg_candidate_idxs.to(\"cpu\")\n",
    "        )"
   ]
  },
  {
   "cell_type": "code",
   "execution_count": 9,
   "id": "f38d4244",
   "metadata": {},
   "outputs": [],
   "source": [
    "fdims = featurizers.SimpleMoleculeMolGraphFeaturizer().shape # the dimensions of the featurizer, given as (atom_dims, bond_dims).\n",
    "mp = nn.BondMessagePassing()\n",
    "agg = nn.NormAggregation()\n",
    "ffn = nn.BinaryClassificationFFN(n_tasks=1)\n",
    "batch_norm = True\n",
    "metric_list = [nn.metrics.BinaryF1Score(), nn.metrics.BinaryAUPRC(), nn.metrics.BinaryAUROC()]\n",
    "contrastive_mpnn = ContrastiveMPNN(mp, agg, ffn, batch_norm, metric_list)\n",
    "# contrastive_mpnn.max_lr = 0.01"
   ]
  },
  {
   "cell_type": "code",
   "execution_count": 10,
   "id": "24aeada0",
   "metadata": {},
   "outputs": [],
   "source": [
    "# datamodule=ConstrastiveDataModule(df_train, df_val)\n",
    "# datamodule.setup()\n",
    "# dl = datamodule.train_dataloader()\n",
    "# batch = next(iter(dl))\n",
    "\n",
    "# B, C = batch.B, batch.C\n",
    "# bmg, V_d, X_d, target_anchor, _, _, _ = batch.anchor\n",
    "# bmg, V_d, X_d, target_candidates, _, _, _ = batch.candidates\n",
    "\n",
    "# (target_anchor - target_candidates.view(B, C)).abs().softmax(dim=-1)"
   ]
  },
  {
   "cell_type": "code",
   "execution_count": 11,
   "id": "aa3c071b",
   "metadata": {},
   "outputs": [
    {
     "data": {
      "text/html": [
       "Tracking run with wandb version 0.21.0"
      ],
      "text/plain": [
       "<IPython.core.display.HTML object>"
      ]
     },
     "metadata": {},
     "output_type": "display_data"
    },
    {
     "data": {
      "text/html": [
       "Run data is saved locally in <code>./wandb/run-20251007_210534-whb6qy39</code>"
      ],
      "text/plain": [
       "<IPython.core.display.HTML object>"
      ]
     },
     "metadata": {},
     "output_type": "display_data"
    },
    {
     "data": {
      "text/html": [
       "Syncing run <strong><a href='https://wandb.ai/rahul-e-dev/chemprop_delta_clf/runs/whb6qy39' target=\"_blank\">noble-resonance-127</a></strong> to <a href='https://wandb.ai/rahul-e-dev/chemprop_delta_clf' target=\"_blank\">Weights & Biases</a> (<a href='https://wandb.me/developer-guide' target=\"_blank\">docs</a>)<br>"
      ],
      "text/plain": [
       "<IPython.core.display.HTML object>"
      ]
     },
     "metadata": {},
     "output_type": "display_data"
    },
    {
     "data": {
      "text/html": [
       " View project at <a href='https://wandb.ai/rahul-e-dev/chemprop_delta_clf' target=\"_blank\">https://wandb.ai/rahul-e-dev/chemprop_delta_clf</a>"
      ],
      "text/plain": [
       "<IPython.core.display.HTML object>"
      ]
     },
     "metadata": {},
     "output_type": "display_data"
    },
    {
     "data": {
      "text/html": [
       " View run at <a href='https://wandb.ai/rahul-e-dev/chemprop_delta_clf/runs/whb6qy39' target=\"_blank\">https://wandb.ai/rahul-e-dev/chemprop_delta_clf/runs/whb6qy39</a>"
      ],
      "text/plain": [
       "<IPython.core.display.HTML object>"
      ]
     },
     "metadata": {},
     "output_type": "display_data"
    },
    {
     "name": "stderr",
     "output_type": "stream",
     "text": [
      "GPU available: True (cuda), used: True\n",
      "TPU available: False, using: 0 TPU cores\n",
      "HPU available: False, using: 0 HPUs\n",
      "LOCAL_RANK: 0 - CUDA_VISIBLE_DEVICES: [0]\n",
      "Loading `train_dataloader` to estimate number of stepping batches.\n",
      "\n",
      "  | Name            | Type                    | Params | Mode \n",
      "--------------------------------------------------------------------\n",
      "0 | message_passing | BondMessagePassing      | 227 K  | train\n",
      "1 | agg             | NormAggregation         | 0      | train\n",
      "2 | bn              | BatchNorm1d             | 600    | train\n",
      "3 | predictor       | BinaryClassificationFFN | 90.6 K | train\n",
      "4 | X_d_transform   | Identity                | 0      | train\n",
      "5 | metrics         | ModuleList              | 0      | train\n",
      "6 | loss_fn         | CrossEntropyLoss        | 0      | train\n",
      "7 | w               | Linear                  | 90.3 K | train\n",
      "--------------------------------------------------------------------\n",
      "409 K     Trainable params\n",
      "0         Non-trainable params\n",
      "409 K     Total params\n",
      "1.637     Total estimated model params size (MB)\n",
      "28        Modules in train mode\n",
      "0         Modules in eval mode\n"
     ]
    },
    {
     "data": {
      "application/vnd.jupyter.widget-view+json": {
       "model_id": "c557f0ab273749b9a82f6e9c4ae25b43",
       "version_major": 2,
       "version_minor": 0
      },
      "text/plain": [
       "Sanity Checking: |          | 0/? [00:00<?, ?it/s]"
      ]
     },
     "metadata": {},
     "output_type": "display_data"
    },
    {
     "data": {
      "application/vnd.jupyter.widget-view+json": {
       "model_id": "7902f2ec468341d2874131f08eb20a59",
       "version_major": 2,
       "version_minor": 0
      },
      "text/plain": [
       "Mining Val::   0%|          | 0/97 [00:00<?, ?it/s]"
      ]
     },
     "metadata": {},
     "output_type": "display_data"
    },
    {
     "data": {
      "application/vnd.jupyter.widget-view+json": {
       "model_id": "d959299f946c4ed4a6f761a2c10e9fdb",
       "version_major": 2,
       "version_minor": 0
      },
      "text/plain": [
       "Training: |          | 0/? [00:00<?, ?it/s]"
      ]
     },
     "metadata": {},
     "output_type": "display_data"
    },
    {
     "data": {
      "application/vnd.jupyter.widget-view+json": {
       "model_id": "3b54ab14b4b3417b8473f931c9d56b35",
       "version_major": 2,
       "version_minor": 0
      },
      "text/plain": [
       "Mining Train::   0%|          | 0/648 [00:00<?, ?it/s]"
      ]
     },
     "metadata": {},
     "output_type": "display_data"
    },
    {
     "data": {
      "application/vnd.jupyter.widget-view+json": {
       "model_id": "99a6bae19a594126acfdc00021b57c8e",
       "version_major": 2,
       "version_minor": 0
      },
      "text/plain": [
       "Validation: |          | 0/? [00:00<?, ?it/s]"
      ]
     },
     "metadata": {},
     "output_type": "display_data"
    },
    {
     "data": {
      "application/vnd.jupyter.widget-view+json": {
       "model_id": "8e31e2af658d4ca79db99419aab87bc3",
       "version_major": 2,
       "version_minor": 0
      },
      "text/plain": [
       "Mining Val::   0%|          | 0/97 [00:00<?, ?it/s]"
      ]
     },
     "metadata": {},
     "output_type": "display_data"
    },
    {
     "name": "stderr",
     "output_type": "stream",
     "text": [
      "Metric val_loss improved. New best score: 3.702\n"
     ]
    },
    {
     "data": {
      "application/vnd.jupyter.widget-view+json": {
       "model_id": "ad40d44f8f8440ec92b4ca790add4503",
       "version_major": 2,
       "version_minor": 0
      },
      "text/plain": [
       "Mining Train::   0%|          | 0/648 [00:00<?, ?it/s]"
      ]
     },
     "metadata": {},
     "output_type": "display_data"
    },
    {
     "data": {
      "application/vnd.jupyter.widget-view+json": {
       "model_id": "553d3b7e8ec9497daeb61a9711c51c6d",
       "version_major": 2,
       "version_minor": 0
      },
      "text/plain": [
       "Validation: |          | 0/? [00:00<?, ?it/s]"
      ]
     },
     "metadata": {},
     "output_type": "display_data"
    },
    {
     "data": {
      "application/vnd.jupyter.widget-view+json": {
       "model_id": "64c2655e6ea147b697bef826eb06157b",
       "version_major": 2,
       "version_minor": 0
      },
      "text/plain": [
       "Mining Val::   0%|          | 0/97 [00:00<?, ?it/s]"
      ]
     },
     "metadata": {},
     "output_type": "display_data"
    },
    {
     "name": "stderr",
     "output_type": "stream",
     "text": [
      "Metric val_loss improved by 0.412 >= min_delta = 0.0. New best score: 3.291\n"
     ]
    },
    {
     "data": {
      "application/vnd.jupyter.widget-view+json": {
       "model_id": "8f7615ec11234654b9259536ba26d04c",
       "version_major": 2,
       "version_minor": 0
      },
      "text/plain": [
       "Mining Train::   0%|          | 0/648 [00:00<?, ?it/s]"
      ]
     },
     "metadata": {},
     "output_type": "display_data"
    },
    {
     "data": {
      "application/vnd.jupyter.widget-view+json": {
       "model_id": "bcfca3a20047431fa3bd6128881a75e9",
       "version_major": 2,
       "version_minor": 0
      },
      "text/plain": [
       "Validation: |          | 0/? [00:00<?, ?it/s]"
      ]
     },
     "metadata": {},
     "output_type": "display_data"
    },
    {
     "data": {
      "application/vnd.jupyter.widget-view+json": {
       "model_id": "d6d2546aaf004f1c8bf5d92b6b47d504",
       "version_major": 2,
       "version_minor": 0
      },
      "text/plain": [
       "Mining Val::   0%|          | 0/97 [00:00<?, ?it/s]"
      ]
     },
     "metadata": {},
     "output_type": "display_data"
    },
    {
     "name": "stderr",
     "output_type": "stream",
     "text": [
      "Metric val_loss improved by 0.034 >= min_delta = 0.0. New best score: 3.257\n"
     ]
    },
    {
     "data": {
      "application/vnd.jupyter.widget-view+json": {
       "model_id": "1ef1afc245e14ad5a37bc0bac65381e4",
       "version_major": 2,
       "version_minor": 0
      },
      "text/plain": [
       "Mining Train::   0%|          | 0/648 [00:00<?, ?it/s]"
      ]
     },
     "metadata": {},
     "output_type": "display_data"
    },
    {
     "data": {
      "application/vnd.jupyter.widget-view+json": {
       "model_id": "2fc0107ccc144069b8b4aeebc9e9e88a",
       "version_major": 2,
       "version_minor": 0
      },
      "text/plain": [
       "Validation: |          | 0/? [00:00<?, ?it/s]"
      ]
     },
     "metadata": {},
     "output_type": "display_data"
    },
    {
     "data": {
      "application/vnd.jupyter.widget-view+json": {
       "model_id": "c635e0c570374802a51b3e9c843497aa",
       "version_major": 2,
       "version_minor": 0
      },
      "text/plain": [
       "Mining Val::   0%|          | 0/97 [00:00<?, ?it/s]"
      ]
     },
     "metadata": {},
     "output_type": "display_data"
    },
    {
     "data": {
      "application/vnd.jupyter.widget-view+json": {
       "model_id": "1ceb1eee1f8d4748ab313c907750a671",
       "version_major": 2,
       "version_minor": 0
      },
      "text/plain": [
       "Mining Train::   0%|          | 0/648 [00:00<?, ?it/s]"
      ]
     },
     "metadata": {},
     "output_type": "display_data"
    },
    {
     "data": {
      "application/vnd.jupyter.widget-view+json": {
       "model_id": "27b73536c7094a0eae549c79914d3b9c",
       "version_major": 2,
       "version_minor": 0
      },
      "text/plain": [
       "Validation: |          | 0/? [00:00<?, ?it/s]"
      ]
     },
     "metadata": {},
     "output_type": "display_data"
    },
    {
     "data": {
      "application/vnd.jupyter.widget-view+json": {
       "model_id": "b54471c14e7e475f8ff4774819e9f77c",
       "version_major": 2,
       "version_minor": 0
      },
      "text/plain": [
       "Mining Val::   0%|          | 0/97 [00:00<?, ?it/s]"
      ]
     },
     "metadata": {},
     "output_type": "display_data"
    },
    {
     "name": "stderr",
     "output_type": "stream",
     "text": [
      "Metric val_loss improved by 0.069 >= min_delta = 0.0. New best score: 3.188\n"
     ]
    },
    {
     "data": {
      "application/vnd.jupyter.widget-view+json": {
       "model_id": "08dc4e9bdfa343268ef01346eb2a7709",
       "version_major": 2,
       "version_minor": 0
      },
      "text/plain": [
       "Mining Train::   0%|          | 0/648 [00:00<?, ?it/s]"
      ]
     },
     "metadata": {},
     "output_type": "display_data"
    },
    {
     "data": {
      "application/vnd.jupyter.widget-view+json": {
       "model_id": "34588eba24d24b0286770e4ebe2f08e7",
       "version_major": 2,
       "version_minor": 0
      },
      "text/plain": [
       "Validation: |          | 0/? [00:00<?, ?it/s]"
      ]
     },
     "metadata": {},
     "output_type": "display_data"
    },
    {
     "data": {
      "application/vnd.jupyter.widget-view+json": {
       "model_id": "1f39f4aa623a4531a49012c63b26545c",
       "version_major": 2,
       "version_minor": 0
      },
      "text/plain": [
       "Mining Val::   0%|          | 0/97 [00:00<?, ?it/s]"
      ]
     },
     "metadata": {},
     "output_type": "display_data"
    },
    {
     "data": {
      "application/vnd.jupyter.widget-view+json": {
       "model_id": "19dbcc5ffa6d4fc0b51b695a48dff506",
       "version_major": 2,
       "version_minor": 0
      },
      "text/plain": [
       "Mining Train::   0%|          | 0/648 [00:00<?, ?it/s]"
      ]
     },
     "metadata": {},
     "output_type": "display_data"
    },
    {
     "data": {
      "application/vnd.jupyter.widget-view+json": {
       "model_id": "4603ff00a8fc4c6e91a968ca15c873bc",
       "version_major": 2,
       "version_minor": 0
      },
      "text/plain": [
       "Validation: |          | 0/? [00:00<?, ?it/s]"
      ]
     },
     "metadata": {},
     "output_type": "display_data"
    },
    {
     "data": {
      "application/vnd.jupyter.widget-view+json": {
       "model_id": "cd462094956a42a69a8fbb86f876f804",
       "version_major": 2,
       "version_minor": 0
      },
      "text/plain": [
       "Mining Val::   0%|          | 0/97 [00:00<?, ?it/s]"
      ]
     },
     "metadata": {},
     "output_type": "display_data"
    },
    {
     "data": {
      "application/vnd.jupyter.widget-view+json": {
       "model_id": "b985d659d6334495ba4a42e263f0d0e9",
       "version_major": 2,
       "version_minor": 0
      },
      "text/plain": [
       "Mining Train::   0%|          | 0/648 [00:00<?, ?it/s]"
      ]
     },
     "metadata": {},
     "output_type": "display_data"
    },
    {
     "data": {
      "application/vnd.jupyter.widget-view+json": {
       "model_id": "52e2eb36a40e418ca05c902eacf971d6",
       "version_major": 2,
       "version_minor": 0
      },
      "text/plain": [
       "Validation: |          | 0/? [00:00<?, ?it/s]"
      ]
     },
     "metadata": {},
     "output_type": "display_data"
    },
    {
     "data": {
      "application/vnd.jupyter.widget-view+json": {
       "model_id": "30f5fdc3f4794f4dac0b6e9403c6f7d9",
       "version_major": 2,
       "version_minor": 0
      },
      "text/plain": [
       "Mining Val::   0%|          | 0/97 [00:00<?, ?it/s]"
      ]
     },
     "metadata": {},
     "output_type": "display_data"
    },
    {
     "data": {
      "application/vnd.jupyter.widget-view+json": {
       "model_id": "78baace8305a4db58ec76c96d1590a4f",
       "version_major": 2,
       "version_minor": 0
      },
      "text/plain": [
       "Mining Train::   0%|          | 0/648 [00:00<?, ?it/s]"
      ]
     },
     "metadata": {},
     "output_type": "display_data"
    },
    {
     "data": {
      "application/vnd.jupyter.widget-view+json": {
       "model_id": "46cdc8e4b6034c5a9af84357430213a0",
       "version_major": 2,
       "version_minor": 0
      },
      "text/plain": [
       "Validation: |          | 0/? [00:00<?, ?it/s]"
      ]
     },
     "metadata": {},
     "output_type": "display_data"
    },
    {
     "data": {
      "application/vnd.jupyter.widget-view+json": {
       "model_id": "a0c3303e0f0c48959e12f54d295bad2d",
       "version_major": 2,
       "version_minor": 0
      },
      "text/plain": [
       "Mining Val::   0%|          | 0/97 [00:00<?, ?it/s]"
      ]
     },
     "metadata": {},
     "output_type": "display_data"
    },
    {
     "name": "stderr",
     "output_type": "stream",
     "text": [
      "Metric val_loss improved by 0.023 >= min_delta = 0.0. New best score: 3.165\n"
     ]
    },
    {
     "data": {
      "application/vnd.jupyter.widget-view+json": {
       "model_id": "e70fb6e454da4b2385b5a0715504fe25",
       "version_major": 2,
       "version_minor": 0
      },
      "text/plain": [
       "Mining Train::   0%|          | 0/648 [00:00<?, ?it/s]"
      ]
     },
     "metadata": {},
     "output_type": "display_data"
    },
    {
     "data": {
      "application/vnd.jupyter.widget-view+json": {
       "model_id": "7e5023e5e24145f4bdd2ce9edbc4ac39",
       "version_major": 2,
       "version_minor": 0
      },
      "text/plain": [
       "Validation: |          | 0/? [00:00<?, ?it/s]"
      ]
     },
     "metadata": {},
     "output_type": "display_data"
    },
    {
     "data": {
      "application/vnd.jupyter.widget-view+json": {
       "model_id": "86bda296652641a59185cbc8efab51d1",
       "version_major": 2,
       "version_minor": 0
      },
      "text/plain": [
       "Mining Val::   0%|          | 0/97 [00:00<?, ?it/s]"
      ]
     },
     "metadata": {},
     "output_type": "display_data"
    },
    {
     "data": {
      "application/vnd.jupyter.widget-view+json": {
       "model_id": "3434f083079b46a68f8d3d753f7af38b",
       "version_major": 2,
       "version_minor": 0
      },
      "text/plain": [
       "Mining Train::   0%|          | 0/648 [00:00<?, ?it/s]"
      ]
     },
     "metadata": {},
     "output_type": "display_data"
    },
    {
     "data": {
      "application/vnd.jupyter.widget-view+json": {
       "model_id": "8c0bc8a8275944e5b6c2b586a503ae18",
       "version_major": 2,
       "version_minor": 0
      },
      "text/plain": [
       "Validation: |          | 0/? [00:00<?, ?it/s]"
      ]
     },
     "metadata": {},
     "output_type": "display_data"
    },
    {
     "data": {
      "application/vnd.jupyter.widget-view+json": {
       "model_id": "8457e8c4b980423880a9160b73ce4aba",
       "version_major": 2,
       "version_minor": 0
      },
      "text/plain": [
       "Mining Val::   0%|          | 0/97 [00:00<?, ?it/s]"
      ]
     },
     "metadata": {},
     "output_type": "display_data"
    },
    {
     "name": "stderr",
     "output_type": "stream",
     "text": [
      "Metric val_loss improved by 0.001 >= min_delta = 0.0. New best score: 3.164\n"
     ]
    },
    {
     "data": {
      "application/vnd.jupyter.widget-view+json": {
       "model_id": "f98b049a7c784de9a307ead6b0ed8d4f",
       "version_major": 2,
       "version_minor": 0
      },
      "text/plain": [
       "Mining Train::   0%|          | 0/648 [00:00<?, ?it/s]"
      ]
     },
     "metadata": {},
     "output_type": "display_data"
    },
    {
     "data": {
      "application/vnd.jupyter.widget-view+json": {
       "model_id": "461e5432908a471bb09e071f8443be41",
       "version_major": 2,
       "version_minor": 0
      },
      "text/plain": [
       "Validation: |          | 0/? [00:00<?, ?it/s]"
      ]
     },
     "metadata": {},
     "output_type": "display_data"
    },
    {
     "data": {
      "application/vnd.jupyter.widget-view+json": {
       "model_id": "31a9036805ff463db47507d1c3903426",
       "version_major": 2,
       "version_minor": 0
      },
      "text/plain": [
       "Mining Val::   0%|          | 0/97 [00:00<?, ?it/s]"
      ]
     },
     "metadata": {},
     "output_type": "display_data"
    },
    {
     "data": {
      "application/vnd.jupyter.widget-view+json": {
       "model_id": "ec4dc854ce6e4996a3c7c3cf55a17f5c",
       "version_major": 2,
       "version_minor": 0
      },
      "text/plain": [
       "Mining Train::   0%|          | 0/648 [00:00<?, ?it/s]"
      ]
     },
     "metadata": {},
     "output_type": "display_data"
    },
    {
     "data": {
      "application/vnd.jupyter.widget-view+json": {
       "model_id": "1e659d4cc7134c32bfa216de1d587410",
       "version_major": 2,
       "version_minor": 0
      },
      "text/plain": [
       "Validation: |          | 0/? [00:00<?, ?it/s]"
      ]
     },
     "metadata": {},
     "output_type": "display_data"
    },
    {
     "data": {
      "application/vnd.jupyter.widget-view+json": {
       "model_id": "89d063526e5041e482dfbf5c97aedfde",
       "version_major": 2,
       "version_minor": 0
      },
      "text/plain": [
       "Mining Val::   0%|          | 0/97 [00:00<?, ?it/s]"
      ]
     },
     "metadata": {},
     "output_type": "display_data"
    },
    {
     "name": "stderr",
     "output_type": "stream",
     "text": [
      "Metric val_loss improved by 0.114 >= min_delta = 0.0. New best score: 3.050\n"
     ]
    },
    {
     "data": {
      "application/vnd.jupyter.widget-view+json": {
       "model_id": "137a6b233ee94ef4a4e4c85f07ccc008",
       "version_major": 2,
       "version_minor": 0
      },
      "text/plain": [
       "Mining Train::   0%|          | 0/648 [00:00<?, ?it/s]"
      ]
     },
     "metadata": {},
     "output_type": "display_data"
    },
    {
     "data": {
      "application/vnd.jupyter.widget-view+json": {
       "model_id": "fed25f2bcfbc4459a0a7db0367b50477",
       "version_major": 2,
       "version_minor": 0
      },
      "text/plain": [
       "Validation: |          | 0/? [00:00<?, ?it/s]"
      ]
     },
     "metadata": {},
     "output_type": "display_data"
    },
    {
     "data": {
      "application/vnd.jupyter.widget-view+json": {
       "model_id": "6c18190ab3754bcda258514ebaa40d3c",
       "version_major": 2,
       "version_minor": 0
      },
      "text/plain": [
       "Mining Val::   0%|          | 0/97 [00:00<?, ?it/s]"
      ]
     },
     "metadata": {},
     "output_type": "display_data"
    },
    {
     "data": {
      "application/vnd.jupyter.widget-view+json": {
       "model_id": "33f30cb2b83c4866b571fbbb080a1139",
       "version_major": 2,
       "version_minor": 0
      },
      "text/plain": [
       "Mining Train::   0%|          | 0/648 [00:00<?, ?it/s]"
      ]
     },
     "metadata": {},
     "output_type": "display_data"
    },
    {
     "data": {
      "application/vnd.jupyter.widget-view+json": {
       "model_id": "5cea798f695b478598a2b394aa2a537f",
       "version_major": 2,
       "version_minor": 0
      },
      "text/plain": [
       "Validation: |          | 0/? [00:00<?, ?it/s]"
      ]
     },
     "metadata": {},
     "output_type": "display_data"
    },
    {
     "data": {
      "application/vnd.jupyter.widget-view+json": {
       "model_id": "1bbc498ba30c4db090e8eb7a4e1eb433",
       "version_major": 2,
       "version_minor": 0
      },
      "text/plain": [
       "Mining Val::   0%|          | 0/97 [00:00<?, ?it/s]"
      ]
     },
     "metadata": {},
     "output_type": "display_data"
    },
    {
     "data": {
      "application/vnd.jupyter.widget-view+json": {
       "model_id": "a61198b1eeab4a4586570e28489580e0",
       "version_major": 2,
       "version_minor": 0
      },
      "text/plain": [
       "Mining Train::   0%|          | 0/648 [00:00<?, ?it/s]"
      ]
     },
     "metadata": {},
     "output_type": "display_data"
    },
    {
     "data": {
      "application/vnd.jupyter.widget-view+json": {
       "model_id": "141f570fc8c94b69aee2a78a17cbc57b",
       "version_major": 2,
       "version_minor": 0
      },
      "text/plain": [
       "Validation: |          | 0/? [00:00<?, ?it/s]"
      ]
     },
     "metadata": {},
     "output_type": "display_data"
    },
    {
     "data": {
      "application/vnd.jupyter.widget-view+json": {
       "model_id": "18965cc31c8c42dda911f08610ec23db",
       "version_major": 2,
       "version_minor": 0
      },
      "text/plain": [
       "Mining Val::   0%|          | 0/97 [00:00<?, ?it/s]"
      ]
     },
     "metadata": {},
     "output_type": "display_data"
    },
    {
     "data": {
      "application/vnd.jupyter.widget-view+json": {
       "model_id": "492a4b66429f40708b66ec3cb7b30335",
       "version_major": 2,
       "version_minor": 0
      },
      "text/plain": [
       "Mining Train::   0%|          | 0/648 [00:00<?, ?it/s]"
      ]
     },
     "metadata": {},
     "output_type": "display_data"
    },
    {
     "data": {
      "application/vnd.jupyter.widget-view+json": {
       "model_id": "c3ad3126140d4df5975b6da94fb8a061",
       "version_major": 2,
       "version_minor": 0
      },
      "text/plain": [
       "Validation: |          | 0/? [00:00<?, ?it/s]"
      ]
     },
     "metadata": {},
     "output_type": "display_data"
    },
    {
     "data": {
      "application/vnd.jupyter.widget-view+json": {
       "model_id": "f50cec8186ba4057b86cc6e8b103b46f",
       "version_major": 2,
       "version_minor": 0
      },
      "text/plain": [
       "Mining Val::   0%|          | 0/97 [00:00<?, ?it/s]"
      ]
     },
     "metadata": {},
     "output_type": "display_data"
    },
    {
     "data": {
      "application/vnd.jupyter.widget-view+json": {
       "model_id": "27d900bed50e41e78f6b23465afc34ba",
       "version_major": 2,
       "version_minor": 0
      },
      "text/plain": [
       "Mining Train::   0%|          | 0/648 [00:00<?, ?it/s]"
      ]
     },
     "metadata": {},
     "output_type": "display_data"
    },
    {
     "data": {
      "application/vnd.jupyter.widget-view+json": {
       "model_id": "011f2828fbe2477796c26c1ec529036c",
       "version_major": 2,
       "version_minor": 0
      },
      "text/plain": [
       "Validation: |          | 0/? [00:00<?, ?it/s]"
      ]
     },
     "metadata": {},
     "output_type": "display_data"
    },
    {
     "data": {
      "application/vnd.jupyter.widget-view+json": {
       "model_id": "366df6b4cd314ebeaeccd0f9a5946c1a",
       "version_major": 2,
       "version_minor": 0
      },
      "text/plain": [
       "Mining Val::   0%|          | 0/97 [00:00<?, ?it/s]"
      ]
     },
     "metadata": {},
     "output_type": "display_data"
    },
    {
     "data": {
      "application/vnd.jupyter.widget-view+json": {
       "model_id": "12ae9f34017f4e528611900510127f1e",
       "version_major": 2,
       "version_minor": 0
      },
      "text/plain": [
       "Mining Train::   0%|          | 0/648 [00:00<?, ?it/s]"
      ]
     },
     "metadata": {},
     "output_type": "display_data"
    },
    {
     "data": {
      "application/vnd.jupyter.widget-view+json": {
       "model_id": "512494025eae454b927b0f2c276207a5",
       "version_major": 2,
       "version_minor": 0
      },
      "text/plain": [
       "Validation: |          | 0/? [00:00<?, ?it/s]"
      ]
     },
     "metadata": {},
     "output_type": "display_data"
    },
    {
     "data": {
      "application/vnd.jupyter.widget-view+json": {
       "model_id": "d6669d1191ff4394872d5bab50e627ea",
       "version_major": 2,
       "version_minor": 0
      },
      "text/plain": [
       "Mining Val::   0%|          | 0/97 [00:00<?, ?it/s]"
      ]
     },
     "metadata": {},
     "output_type": "display_data"
    },
    {
     "data": {
      "application/vnd.jupyter.widget-view+json": {
       "model_id": "469bd93926cc43c3886a7a4cee9453dd",
       "version_major": 2,
       "version_minor": 0
      },
      "text/plain": [
       "Mining Train::   0%|          | 0/648 [00:00<?, ?it/s]"
      ]
     },
     "metadata": {},
     "output_type": "display_data"
    },
    {
     "data": {
      "application/vnd.jupyter.widget-view+json": {
       "model_id": "1bfe05bbb04a4f239203699a29b51cbe",
       "version_major": 2,
       "version_minor": 0
      },
      "text/plain": [
       "Validation: |          | 0/? [00:00<?, ?it/s]"
      ]
     },
     "metadata": {},
     "output_type": "display_data"
    },
    {
     "data": {
      "application/vnd.jupyter.widget-view+json": {
       "model_id": "780b13a0c8634cd0b448b0a763a63762",
       "version_major": 2,
       "version_minor": 0
      },
      "text/plain": [
       "Mining Val::   0%|          | 0/97 [00:00<?, ?it/s]"
      ]
     },
     "metadata": {},
     "output_type": "display_data"
    },
    {
     "data": {
      "application/vnd.jupyter.widget-view+json": {
       "model_id": "fa9e446c77674d8f9ffd1d5fc5f9d997",
       "version_major": 2,
       "version_minor": 0
      },
      "text/plain": [
       "Mining Train::   0%|          | 0/648 [00:00<?, ?it/s]"
      ]
     },
     "metadata": {},
     "output_type": "display_data"
    },
    {
     "data": {
      "application/vnd.jupyter.widget-view+json": {
       "model_id": "f75553bd1bc2405a854240112d34f2b6",
       "version_major": 2,
       "version_minor": 0
      },
      "text/plain": [
       "Validation: |          | 0/? [00:00<?, ?it/s]"
      ]
     },
     "metadata": {},
     "output_type": "display_data"
    },
    {
     "data": {
      "application/vnd.jupyter.widget-view+json": {
       "model_id": "a4fd6fa6ba5e47e2a07fb4e21580b084",
       "version_major": 2,
       "version_minor": 0
      },
      "text/plain": [
       "Mining Val::   0%|          | 0/97 [00:00<?, ?it/s]"
      ]
     },
     "metadata": {},
     "output_type": "display_data"
    },
    {
     "data": {
      "application/vnd.jupyter.widget-view+json": {
       "model_id": "85b979da4b5249eeb309e37552a752d7",
       "version_major": 2,
       "version_minor": 0
      },
      "text/plain": [
       "Mining Train::   0%|          | 0/648 [00:00<?, ?it/s]"
      ]
     },
     "metadata": {},
     "output_type": "display_data"
    },
    {
     "data": {
      "application/vnd.jupyter.widget-view+json": {
       "model_id": "7e13139b2e7b4f6097695add4b783542",
       "version_major": 2,
       "version_minor": 0
      },
      "text/plain": [
       "Validation: |          | 0/? [00:00<?, ?it/s]"
      ]
     },
     "metadata": {},
     "output_type": "display_data"
    },
    {
     "data": {
      "application/vnd.jupyter.widget-view+json": {
       "model_id": "e72c3992ea7b484398dd5a9744164705",
       "version_major": 2,
       "version_minor": 0
      },
      "text/plain": [
       "Mining Val::   0%|          | 0/97 [00:00<?, ?it/s]"
      ]
     },
     "metadata": {},
     "output_type": "display_data"
    },
    {
     "data": {
      "application/vnd.jupyter.widget-view+json": {
       "model_id": "8d98dc664f81458cb8a63a428819fc93",
       "version_major": 2,
       "version_minor": 0
      },
      "text/plain": [
       "Mining Train::   0%|          | 0/648 [00:00<?, ?it/s]"
      ]
     },
     "metadata": {},
     "output_type": "display_data"
    },
    {
     "data": {
      "application/vnd.jupyter.widget-view+json": {
       "model_id": "c95d461fa9954898b3d8b896e14dbe88",
       "version_major": 2,
       "version_minor": 0
      },
      "text/plain": [
       "Validation: |          | 0/? [00:00<?, ?it/s]"
      ]
     },
     "metadata": {},
     "output_type": "display_data"
    },
    {
     "data": {
      "application/vnd.jupyter.widget-view+json": {
       "model_id": "f40bd863972c4ff094ad8338c0d568fe",
       "version_major": 2,
       "version_minor": 0
      },
      "text/plain": [
       "Mining Val::   0%|          | 0/97 [00:00<?, ?it/s]"
      ]
     },
     "metadata": {},
     "output_type": "display_data"
    },
    {
     "name": "stderr",
     "output_type": "stream",
     "text": [
      "Monitored metric val_loss did not improve in the last 10 records. Best score: 3.050. Signaling Trainer to stop.\n"
     ]
    }
   ],
   "source": [
    "wandb.finish()\n",
    "wandb_logger = WandbLogger(project=\"chemprop_delta_clf\", log_model=\"all\", save_code=True)\n",
    "wandb_logger.experiment.mark_preempting()\n",
    "\n",
    "trainer = L.Trainer(\n",
    "    logger=wandb_logger,\n",
    "    enable_checkpointing=True,  # Use `True` if you want to save model checkpoints. The checkpoints will be saved in the `checkpoints` folder.\n",
    "    enable_progress_bar=True,\n",
    "    accelerator=\"auto\",\n",
    "    devices=1,\n",
    "    max_epochs=50,  # number of epochs to train for\n",
    "    reload_dataloaders_every_n_epochs=1,\n",
    "    log_every_n_steps=50,\n",
    "    callbacks=[\n",
    "        EarlyStopping(monitor=\"val_loss\", mode=\"min\", verbose=True, patience=10),\n",
    "        ModelCheckpoint(monitor=\"val_loss\", mode=\"min\", save_top_k=2)\n",
    "    ]\n",
    ")\n",
    "\n",
    "trainer.fit(contrastive_mpnn, datamodule=ConstrastiveDataModule(df_train, df_val))"
   ]
  },
  {
   "cell_type": "code",
   "execution_count": 12,
   "id": "2128a739",
   "metadata": {},
   "outputs": [],
   "source": [
    "model = ContrastiveMPNN.load_from_checkpoint(trainer.callbacks[-1].best_model_path)"
   ]
  },
  {
   "cell_type": "code",
   "execution_count": 13,
   "id": "eaa774bf",
   "metadata": {},
   "outputs": [],
   "source": [
    "def get_embeds_targets(df_split, contrastive_mpnn):\n",
    "    ds = SimpleDataset(\n",
    "        df_split[\"mol\"],  # type: ignore\n",
    "        df_split[\"per_inhibition\"],  # type: ignore\n",
    "    )\n",
    "    dl = DataLoader(\n",
    "        ds,\n",
    "        collate_fn=collate_batch,\n",
    "        batch_size=32, # type: ignore\n",
    "        shuffle=False,\n",
    "    )\n",
    "\n",
    "    all_embeds = []\n",
    "    all_targets = []\n",
    "    with torch.no_grad():\n",
    "        for batch in tqdm(dl, leave=False):\n",
    "            batch = move_data_to_device(batch, \"cpu\")\n",
    "            res = contrastive_mpnn.embed_simple_batch(batch)  # type: ignore\n",
    "\n",
    "            all_embeds.append(res[\"embeds\"])\n",
    "            all_targets.append(res[\"targets\"])\n",
    "\n",
    "    all_embeds = torch.cat(all_embeds)\n",
    "    all_targets = torch.cat(all_targets)\n",
    "\n",
    "    return all_embeds, all_targets"
   ]
  },
  {
   "cell_type": "code",
   "execution_count": 14,
   "id": "3f945b4f",
   "metadata": {},
   "outputs": [
    {
     "data": {
      "text/plain": [
       "device(type='cuda', index=0)"
      ]
     },
     "execution_count": 14,
     "metadata": {},
     "output_type": "execute_result"
    }
   ],
   "source": [
    "model.device"
   ]
  },
  {
   "cell_type": "code",
   "execution_count": 15,
   "id": "17b06f75",
   "metadata": {},
   "outputs": [
    {
     "data": {
      "application/vnd.jupyter.widget-view+json": {
       "model_id": "f3ea80bfb5454e24af1a9db27752faba",
       "version_major": 2,
       "version_minor": 0
      },
      "text/plain": [
       "  0%|          | 0/324 [00:00<?, ?it/s]"
      ]
     },
     "metadata": {},
     "output_type": "display_data"
    }
   ],
   "source": [
    "train_embeds, train_targets = get_embeds_targets(df_train, model.to(\"cpu\"))"
   ]
  },
  {
   "cell_type": "code",
   "execution_count": 20,
   "id": "1bb4ca73",
   "metadata": {},
   "outputs": [],
   "source": [
    "asd = model.w(train_embeds) @ train_embeds.T"
   ]
  },
  {
   "cell_type": "code",
   "execution_count": 21,
   "id": "90cba91b",
   "metadata": {},
   "outputs": [
    {
     "data": {
      "text/plain": [
       "tensor([[7489, 5519, 7061],\n",
       "        [7489, 5378, 5519],\n",
       "        [5519, 7489, 5378],\n",
       "        ...,\n",
       "        [5519, 6870, 6939],\n",
       "        [7489, 5378, 5519],\n",
       "        [5378, 7489, 5519]])"
      ]
     },
     "execution_count": 21,
     "metadata": {},
     "output_type": "execute_result"
    }
   ],
   "source": [
    "asd.topk(3, dim=-1).indices\n"
   ]
  },
  {
   "cell_type": "code",
   "execution_count": 22,
   "id": "d6a14c1b",
   "metadata": {},
   "outputs": [
    {
     "data": {
      "text/plain": [
       "tensor([[ 1.1421,  0.5198, -0.5309,  ..., -0.9022,  0.9609, -0.6830],\n",
       "        [ 0.9998,  0.4200, -0.7123,  ..., -0.9911,  0.8062, -0.6943],\n",
       "        [ 0.9027,  0.2393, -0.8529,  ..., -0.7719,  0.6768, -0.7497],\n",
       "        ...,\n",
       "        [ 0.8925,  0.0315, -0.8769,  ..., -0.4103,  0.5890, -0.9145],\n",
       "        [ 1.1211,  0.5619, -0.5877,  ..., -1.0418,  0.9599, -0.6483],\n",
       "        [ 0.9193,  0.3153, -0.8252,  ..., -1.0486,  0.7333, -0.6512]],\n",
       "       grad_fn=<MmBackward0>)"
      ]
     },
     "execution_count": 22,
     "metadata": {},
     "output_type": "execute_result"
    }
   ],
   "source": [
    "asd"
   ]
  },
  {
   "cell_type": "code",
   "execution_count": null,
   "id": "4222bc61",
   "metadata": {},
   "outputs": [],
   "source": []
  },
  {
   "cell_type": "code",
   "execution_count": null,
   "id": "e4a4324b",
   "metadata": {},
   "outputs": [],
   "source": []
  },
  {
   "cell_type": "code",
   "execution_count": 19,
   "id": "e066feaa",
   "metadata": {},
   "outputs": [
    {
     "name": "stderr",
     "output_type": "stream",
     "text": [
      "\u001b[34m\u001b[1mwandb\u001b[0m: \u001b[32m\u001b[41mERROR\u001b[0m The nbformat package was not found. It is required to save notebook history.\n"
     ]
    },
    {
     "data": {
      "text/html": [],
      "text/plain": [
       "<IPython.core.display.HTML object>"
      ]
     },
     "metadata": {},
     "output_type": "display_data"
    },
    {
     "data": {
      "text/html": [
       "<br>    <style><br>        .wandb-row {<br>            display: flex;<br>            flex-direction: row;<br>            flex-wrap: wrap;<br>            justify-content: flex-start;<br>            width: 100%;<br>        }<br>        .wandb-col {<br>            display: flex;<br>            flex-direction: column;<br>            flex-basis: 100%;<br>            flex: 1;<br>            padding: 10px;<br>        }<br>    </style><br><div class=\"wandb-row\"><div class=\"wandb-col\"><h3>Run history:</h3><br/><table class=\"wandb\"><tr><td>epoch</td><td>▁▁▁▁▁▁▂▂▂▂▂▂▃▃▃▃▃▄▄▄▄▄▄▄▄▅▅▅▆▆▆▆▆▆▇▇▇▇▇█</td></tr><tr><td>train_loss_epoch</td><td>█▅▅▄▂▃▃▄▁▃▂▂▁▃▁▂▁▁▂▁▂▁▁</td></tr><tr><td>train_loss_step</td><td>▆█▇▄▄▃▅▃▃▄▅▃▆▄▇▅▅▃▄▂▂▁▂▁▃▂▂▄▅▅▃▃▁▄▂▁▁▄▁▄</td></tr><tr><td>trainer/global_step</td><td>▁▁▁▁▁▁▂▂▂▂▃▃▃▃▃▃▃▄▄▄▅▅▅▅▅▆▆▆▆▆▆▇▇▇▇▇▇███</td></tr><tr><td>val_loss</td><td>█▄▃▅▂▅▄▃▂▄▂▃▁▂▃▃▁▃▃▃▄▂▁</td></tr></table><br/></div><div class=\"wandb-col\"><h3>Run summary:</h3><br/><table class=\"wandb\"><tr><td>epoch</td><td>22</td></tr><tr><td>train_loss_epoch</td><td>3.07014</td></tr><tr><td>train_loss_step</td><td>3.14901</td></tr><tr><td>trainer/global_step</td><td>14903</td></tr><tr><td>val_loss</td><td>3.09512</td></tr></table><br/></div></div>"
      ],
      "text/plain": [
       "<IPython.core.display.HTML object>"
      ]
     },
     "metadata": {},
     "output_type": "display_data"
    },
    {
     "data": {
      "text/html": [
       " View run <strong style=\"color:#cdcd00\">noble-resonance-127</strong> at: <a href='https://wandb.ai/rahul-e-dev/chemprop_delta_clf/runs/whb6qy39' target=\"_blank\">https://wandb.ai/rahul-e-dev/chemprop_delta_clf/runs/whb6qy39</a><br> View project at: <a href='https://wandb.ai/rahul-e-dev/chemprop_delta_clf' target=\"_blank\">https://wandb.ai/rahul-e-dev/chemprop_delta_clf</a><br>Synced 6 W&B file(s), 0 media file(s), 22 artifact file(s) and 0 other file(s)"
      ],
      "text/plain": [
       "<IPython.core.display.HTML object>"
      ]
     },
     "metadata": {},
     "output_type": "display_data"
    },
    {
     "data": {
      "text/html": [
       "Find logs at: <code>./wandb/run-20251007_210534-whb6qy39/logs</code>"
      ],
      "text/plain": [
       "<IPython.core.display.HTML object>"
      ]
     },
     "metadata": {},
     "output_type": "display_data"
    }
   ],
   "source": [
    "wandb.finish()"
   ]
  },
  {
   "cell_type": "code",
   "execution_count": null,
   "id": "298728cf",
   "metadata": {},
   "outputs": [],
   "source": []
  },
  {
   "cell_type": "code",
   "execution_count": null,
   "id": "c30ad9fe",
   "metadata": {},
   "outputs": [],
   "source": []
  },
  {
   "cell_type": "code",
   "execution_count": null,
   "id": "4f43148f",
   "metadata": {},
   "outputs": [],
   "source": []
  }
 ],
 "metadata": {
  "kernelspec": {
   "display_name": "delta",
   "language": "python",
   "name": "python3"
  },
  "language_info": {
   "codemirror_mode": {
    "name": "ipython",
    "version": 3
   },
   "file_extension": ".py",
   "mimetype": "text/x-python",
   "name": "python",
   "nbconvert_exporter": "python",
   "pygments_lexer": "ipython3",
   "version": "3.12.11"
  }
 },
 "nbformat": 4,
 "nbformat_minor": 5
}
