{
 "cells": [
  {
   "cell_type": "code",
   "execution_count": null,
   "id": "e763a621",
   "metadata": {},
   "outputs": [],
   "source": [
    "import sys\n",
    "\n",
    "sys.path.append('../')\n",
    "\n",
    "import os\n",
    "import random\n",
    "import pandas as pd\n",
    "import lightning as L\n",
    "import numpy as np\n",
    "import torch\n",
    "from chemprop import data, featurizers, models\n",
    "from chemprop import nn as chem_nn\n",
    "from lightning.pytorch.callbacks.early_stopping import EarlyStopping\n",
    "from lightning.pytorch.callbacks.model_checkpoint import ModelCheckpoint\n",
    "from lightning.pytorch.loggers import WandbLogger\n",
    "from torch.utils.data import DataLoader, Dataset\n",
    "from tqdm.auto import tqdm\n",
    "from pytorch_lightning.utilities import move_data_to_device\n",
    "import pandas as pd\n",
    "import rdkit.Chem as Chem\n",
    "from rdkit.Chem.Descriptors import CalcMolDescriptors\n",
    "from rdkit.rdBase import BlockLogs\n",
    "from sklearn.model_selection import GroupShuffleSplit\n",
    "from commons.utils import get_scaffold, standardize\n",
    "from typing import NamedTuple\n",
    "from itertools import chain\n",
    "\n",
    "import wandb\n",
    "# from commons.data import load_and_split_gsk_dataset\n",
    "\n",
    "RANDOM_SEED = 42\n",
    "\n",
    "def set_seeds(seed):\n",
    "    random.seed(seed)\n",
    "    np.random.seed(seed)\n",
    "    torch.manual_seed(seed)\n",
    "    torch.cuda.manual_seed_all(seed)\n",
    "\n",
    "set_seeds(RANDOM_SEED)\n",
    "\n",
    "# load_dotenv('.env.secret')\n",
    "# wandb.login(key='cf344975eb80edf6f0d52af80528cc6094234caf')"
   ]
  },
  {
   "cell_type": "code",
   "execution_count": null,
   "id": "6fb18a0e",
   "metadata": {},
   "outputs": [],
   "source": [
    "def mol_to_inchi(mol):\n",
    "    with BlockLogs():\n",
    "        return Chem.MolToInchi(mol)\n",
    "    \n",
    "\n",
    "def generate_features(df):\n",
    "    with BlockLogs():\n",
    "        feats = pd.DataFrame.from_records(df[\"mol\"].map(CalcMolDescriptors).tolist())\n",
    "        feats.columns = [f\"feat_{f}\" for f in feats.columns]\n",
    "        df = pd.concat(\n",
    "            [\n",
    "                df.reset_index(drop=True),\n",
    "                feats,\n",
    "            ],\n",
    "            axis=1,\n",
    "        )\n",
    "\n",
    "    return df\n",
    "\n",
    "\n",
    "def load_and_split_gsk_dataset(path, RANDOM_SEED):\n",
    "    df = pd.read_csv(path)\n",
    "    df = df.iloc[:, 1:]\n",
    "    df.columns = [\"smiles\", \"per_inhibition\"]\n",
    "\n",
    "    # standardize and convert to inchi\n",
    "    df[\"mol\"] = df[\"smiles\"].map(standardize)\n",
    "    df = df.dropna(subset=[\"mol\"])\n",
    "    df[\"inchi\"] = df[\"mol\"].map(mol_to_inchi)\n",
    "    df = df.groupby([\"inchi\"]).filter(lambda x: len(x) == 1).reset_index(drop=True)\n",
    "\n",
    "    df[\"is_cytotoxic\"] = df[\"per_inhibition\"] > 50.0\n",
    "\n",
    "    df = generate_features(df)\n",
    "\n",
    "    clusters, _ = pd.factorize(\n",
    "        df[\"mol\"]\n",
    "        .map(Chem.MolToSmiles)  # type: ignore\n",
    "        .map(get_scaffold)\n",
    "    )\n",
    "    clusters = pd.Series(clusters)\n",
    "\n",
    "    df = df.drop([\"smiles\", \"inchi\"], axis=1)\n",
    "\n",
    "    splitter = GroupShuffleSplit(n_splits=1, random_state=RANDOM_SEED)\n",
    "    train_idxs, val_test_idxs = next(splitter.split(df, groups=clusters))\n",
    "    df_train = df.loc[train_idxs].reset_index(drop=True)\n",
    "    df_val_test = df.loc[val_test_idxs].reset_index(drop=True)\n",
    "    clusters_val_test = clusters.iloc[val_test_idxs].reset_index(drop=True)\n",
    "\n",
    "    splitter = GroupShuffleSplit(n_splits=1, random_state=RANDOM_SEED, test_size=0.5)\n",
    "    val_idxs, test_idxs = next(splitter.split(df_val_test, groups=clusters_val_test))\n",
    "    df_val = df_val_test.loc[val_idxs].reset_index(drop=True)\n",
    "    df_test = df_val_test.loc[test_idxs].reset_index(drop=True)\n",
    "\n",
    "    return df_train, df_val, df_test"
   ]
  },
  {
   "cell_type": "code",
   "execution_count": 3,
   "id": "3d0aecfa",
   "metadata": {},
   "outputs": [],
   "source": [
    "df_train, df_val, df_test = load_and_split_gsk_dataset(\"../GSK_HepG2.csv\", RANDOM_SEED)"
   ]
  },
  {
   "cell_type": "code",
   "execution_count": 4,
   "id": "1974a46d",
   "metadata": {},
   "outputs": [],
   "source": [
    "def get_molecule_datapoint(row):\n",
    "    feat_entry_names = [f for f in row.index if f.startswith('feat')]\n",
    "    feat_array = pd.to_numeric(row[feat_entry_names], errors=\"coerce\")\n",
    "    return data.MoleculeDatapoint(\n",
    "        mol=row['mol'], \n",
    "        y=np.array([row['per_inhibition']]),\n",
    "        x_d=feat_array.to_numpy()\n",
    "    )\n",
    "\n",
    "featurizer = featurizers.SimpleMoleculeMolGraphFeaturizer()\n",
    "train_mol_dataset = data.MoleculeDataset(df_train.apply(get_molecule_datapoint, axis=1), featurizer=featurizer)\n",
    "val_mol_dataset = data.MoleculeDataset(df_val.apply(get_molecule_datapoint, axis=1), featurizer=featurizer)\n",
    "test_mol_dataset = data.MoleculeDataset(df_test.apply(get_molecule_datapoint, axis=1), featurizer=featurizer)\n",
    "\n",
    "x_d_scaler = train_mol_dataset.normalize_inputs(\"X_d\")\n",
    "val_mol_dataset.normalize_inputs(\"X_d\", x_d_scaler)\n",
    "test_mol_dataset.normalize_inputs(\"X_d\", x_d_scaler)\n",
    "\n",
    "train_mol_dataset.cache = True\n",
    "val_mol_dataset.cache = True\n",
    "test_mol_dataset.cache = True"
   ]
  },
  {
   "cell_type": "code",
   "execution_count": 5,
   "id": "9fa43d87",
   "metadata": {},
   "outputs": [],
   "source": [
    "class RandomPairDataPoint(NamedTuple):\n",
    "    anchor: data.datasets.Datum\n",
    "    exemplar: list[data.datasets.Datum]\n",
    "    random: list[data.datasets.Datum]\n",
    "\n",
    "\n",
    "class RandomPairTrainBatch(NamedTuple):\n",
    "    anchor: data.collate.TrainingBatch\n",
    "    exemplar: data.collate.TrainingBatch\n",
    "    random: data.collate.TrainingBatch\n",
    "    B: int\n",
    "    C: int\n",
    "    \n",
    "\n",
    "class RandomPairDataset(Dataset):\n",
    "    def __init__(self, mol_dataset, n_candidates):\n",
    "        super().__init__()\n",
    "        self.mol_dataset: data.datasets.MoleculeDataset = mol_dataset\n",
    "        self.n_candidates: int = n_candidates\n",
    "\n",
    "    def __len__(self):\n",
    "        return len(self.mol_dataset)\n",
    "    \n",
    "    def get_exemplar_candidates(self):\n",
    "        targets = self.mol_dataset.Y.squeeze()\n",
    "        mask = targets > 50\n",
    "        weights = np.where(mask, 1.0, 0.0)\n",
    "        probs = weights / weights.sum()\n",
    "        exemplar_idxs = np.random.choice(\n",
    "            targets.shape[0], \n",
    "            size=(self.n_candidates,), \n",
    "            p=probs, \n",
    "            replace=False\n",
    "        )\n",
    "\n",
    "        return [self.mol_dataset[idx] for idx in exemplar_idxs]\n",
    "\n",
    "    \n",
    "    def get_random_candidates(self):\n",
    "        targets = self.mol_dataset.Y.squeeze()\n",
    "        candidate_idxs = np.random.choice(\n",
    "            targets.shape[0], \n",
    "            size=(self.n_candidates,), \n",
    "            replace=False\n",
    "        )\n",
    "        return [self.mol_dataset[idx] for idx in candidate_idxs]\n",
    "\n",
    "    def __getitem__(self, idx) -> RandomPairDataPoint:\n",
    "        return RandomPairDataPoint(\n",
    "            self.mol_dataset[idx], \n",
    "            self.get_exemplar_candidates(),\n",
    "            self.get_random_candidates()\n",
    "        )\n",
    "    \n",
    "    @staticmethod\n",
    "    def collate_function(batch):\n",
    "        batch_anchors, batch_exemplars, batch_candidates = zip(*batch)\n",
    "        B = len(batch)\n",
    "        C = len(batch_candidates[0])\n",
    "        batch_anchors = data.dataloader.collate_batch(batch_anchors)\n",
    "        batch_exemplars = data.dataloader.collate_batch(chain.from_iterable(batch_exemplars))\n",
    "        batch_candidates = data.dataloader.collate_batch(chain.from_iterable(batch_candidates))\n",
    "        return RandomPairTrainBatch(batch_anchors, batch_exemplars, batch_candidates, B, C)"
   ]
  },
  {
   "cell_type": "code",
   "execution_count": 6,
   "id": "fe77114b",
   "metadata": {},
   "outputs": [],
   "source": [
    "def seed_worker(worker_id):\n",
    "    worker_seed = torch.initial_seed() % 2**32\n",
    "    np.random.seed(worker_seed)\n",
    "    random.seed(worker_seed)\n",
    "\n",
    "class RandomPairDataModule(L.LightningDataModule):\n",
    "    def __init__(self, mol_ds_train, mol_ds_val) -> None:\n",
    "        super().__init__()\n",
    "        self.mol_ds_train: data.MoleculeDataset = mol_ds_train\n",
    "        self.mol_ds_val: data.MoleculeDataset = mol_ds_val\n",
    "        self.batch_size=32\n",
    "        self.candidate_size=8\n",
    "\n",
    "        self.ds_train = None\n",
    "        self.ds_val = None\n",
    "\n",
    "    def setup(self, stage=None):\n",
    "        self.ds_train = RandomPairDataset(self.mol_ds_train, self.candidate_size)\n",
    "        self.ds_val = RandomPairDataset(self.mol_ds_val, self.candidate_size)\n",
    "\n",
    "    def train_dataloader(self):\n",
    "        assert self.ds_train is not None\n",
    "        return DataLoader(\n",
    "            self.ds_train,\n",
    "            batch_size=self.batch_size,\n",
    "            shuffle=True,\n",
    "            collate_fn=RandomPairDataset.collate_function,\n",
    "            worker_init_fn=seed_worker,\n",
    "            num_workers=8,\n",
    "        )\n",
    "\n",
    "    def val_dataloader(self):\n",
    "        assert self.ds_val is not None\n",
    "        return DataLoader(\n",
    "            self.ds_val,\n",
    "            batch_size=self.batch_size,\n",
    "            shuffle=False,\n",
    "            collate_fn=RandomPairDataset.collate_function,\n",
    "            num_workers=8,\n",
    "        )"
   ]
  },
  {
   "cell_type": "code",
   "execution_count": null,
   "id": "a22de2a3",
   "metadata": {},
   "outputs": [],
   "source": [
    "from typing import Any, Iterable\n",
    "from chemprop.nn import Aggregation, ChempropMetric, MessagePassing, Predictor\n",
    "from chemprop.nn.transforms import ScaleTransform\n",
    "import pytorch_lightning as pl\n",
    "\n",
    "\n",
    "class RESCALInteraction(torch.nn.Module):\n",
    "    def __init__(self, ndims) -> None:\n",
    "        super().__init__()\n",
    "        self.interaction_matrix = torch.nn.Linear(ndims, ndims, bias=False)\n",
    "        self.head_dropout = torch.nn.Dropout(0.3)\n",
    "\n",
    "    def forward(self, head_emb, tail_emb):\n",
    "        R = self.interaction_matrix.weight.unsqueeze(0)\n",
    "        z = self.head_dropout(head_emb @ R) @ tail_emb.transpose(-2, -1)\n",
    "        # z = (self.head_dropout(head_emb @ R) - tail_emb.transpose(-2, -1)).sigmoid?\n",
    "        return z.squeeze()\n",
    "\n",
    "\n",
    "class ProjEInteraction(torch.nn.Module):\n",
    "    def __init__(self, *args, **kwargs) -> None:\n",
    "        super().__init__(*args, **kwargs)\n",
    "        self.embs = torch.nn.Embedding(4, 300)\n",
    "        self.dh_emb_idx = torch.nn.Parameter(torch.LongTensor([0]), requires_grad=False)\n",
    "        self.dr_emb_idx = torch.nn.Parameter(torch.LongTensor([1]), requires_grad=False)\n",
    "        self.b_emb_idx = torch.nn.Parameter(torch.LongTensor([2]), requires_grad=False)\n",
    "        self.r_emb_idx = torch.nn.Parameter(torch.LongTensor([3]), requires_grad=False)\n",
    "        self.b_p = torch.nn.Parameter(torch.rand(1))\n",
    "\n",
    "    def forward(self, head_emb, tail_emb):\n",
    "        dh_emb = self.embs(self.dh_emb_idx)\n",
    "        dr_emb = self.embs(self.dr_emb_idx)\n",
    "        r_emb = self.embs(self.r_emb_idx)\n",
    "        b_emb = self.embs(self.b_emb_idx)\n",
    "        b_p = self.b_p\n",
    "\n",
    "        x = torch.nn.functional.relu(dh_emb * head_emb + dr_emb * r_emb + b_emb)\n",
    "        y = x @ tail_emb.transpose(-2, -1) + b_p\n",
    "        return y.squeeze()\n",
    "\n",
    "\n",
    "class NNInteraction(torch.nn.Module):\n",
    "    def __init__(self, ndims) -> None:\n",
    "        super().__init__()\n",
    "        self.nn = torch.nn.Sequential(\n",
    "            torch.nn.Linear(2 * ndims, 2 * ndims),\n",
    "            torch.nn.ReLU(),\n",
    "            torch.nn.Linear(2 * ndims, 1),\n",
    "        )\n",
    "\n",
    "    def forward(self, head_emb, tail_emb):\n",
    "        if head_emb.shape[-2] == 1:\n",
    "            head_emb = head_emb.expand_as(tail_emb)\n",
    "        else:\n",
    "            tail_emb = tail_emb.expand_as(head_emb)\n",
    "\n",
    "        Z_combined = torch.cat([head_emb, tail_emb], dim=-1)  # (B, C, 2*d)\n",
    "        return self.nn(Z_combined).squeeze()\n",
    "\n",
    "\n",
    "class ContrastiveMPNN(models.MPNN):\n",
    "    def __init__(\n",
    "        self,\n",
    "        message_passing: MessagePassing,\n",
    "        agg: Aggregation,\n",
    "        predictor: Predictor,\n",
    "        batch_norm: bool = False,\n",
    "        metrics: Iterable[ChempropMetric] | None = None,\n",
    "        warmup_epochs: int = 2,\n",
    "        init_lr: float = 0.0001,\n",
    "        max_lr: float = 0.001,\n",
    "        final_lr: float = 0.0001,\n",
    "        X_d_transform: ScaleTransform | None = None,\n",
    "    ):\n",
    "        super().__init__(\n",
    "            message_passing,\n",
    "            agg,\n",
    "            predictor,\n",
    "            batch_norm,\n",
    "            metrics,\n",
    "            warmup_epochs,\n",
    "            init_lr,\n",
    "            max_lr,\n",
    "            final_lr,\n",
    "            X_d_transform,\n",
    "        )\n",
    "\n",
    "        self.interaction = RESCALInteraction(300)\n",
    "        self.loss_fn = torch.nn.BCEWithLogitsLoss()\n",
    "\n",
    "    def embed_simple_batch(self, batch: data.collate.TrainingBatch):\n",
    "        bmg, V_d, X_d, target, _, _, _ = batch\n",
    "        Z = self.encoding(bmg, V_d, X_d)\n",
    "        return dict(embeds=Z, targets=target)\n",
    "    \n",
    "\n",
    "    def bidirectional_interaction_loss(\n",
    "        self, Z_left, Z_right, target_left, target_right\n",
    "    ):\n",
    "        # left to right loss\n",
    "        lr_interaction = self.interaction(Z_left, Z_right).squeeze()\n",
    "        lr_labels = (target_left > target_right).float()  # type: ignore\n",
    "        lr_loss = self.loss_fn(lr_interaction, lr_labels)\n",
    "\n",
    "        # right to left loss\n",
    "        rl_interaction = self.interaction(Z_right, Z_left).squeeze()\n",
    "        rl_labels = (target_left <= target_right).float()  # type: ignore\n",
    "        rl_loss = self.loss_fn(rl_interaction, rl_labels)\n",
    "\n",
    "        delta = (lr_interaction + rl_interaction) ** 2\n",
    "        symm_loss = delta.sum(dim=-1).mean()\n",
    "\n",
    "        return symm_loss, lr_loss, rl_loss\n",
    "\n",
    "    def get_losses(self, batch: RandomPairTrainBatch):\n",
    "        B, C = batch.B, batch.C\n",
    "\n",
    "        bmg, V_d, X_d, target_anchor, _, _, _ = batch.anchor\n",
    "        Z_anchor = self.encoding(bmg, V_d, X_d)\n",
    "\n",
    "        bmg, V_d, X_d, target_exemplar, _, _, _ = batch.exemplar\n",
    "        Z_exemplar = self.encoding(bmg, V_d, X_d)\n",
    "\n",
    "        bmg, V_d, X_d, target_random, _, _, _ = batch.random\n",
    "        Z_random = self.encoding(bmg, V_d, X_d)\n",
    "\n",
    "        Z_anchor = Z_anchor.view(B, 1, -1)  # (B, d) -> (B, 1, d)\n",
    "        Z_exemplar = Z_exemplar.view(B, C, -1)  # (B*C, d) -> (B, C, d)\n",
    "        Z_random = Z_random.view(B, C, -1)  # (B*C, d) -> (B, C, d)\n",
    "\n",
    "        target_anchor = target_anchor.view(-1, 1)\n",
    "        target_exemplar = target_exemplar.view(B, C)\n",
    "        target_random = target_random.view(B, C)\n",
    "\n",
    "        (exemplar_sym_loss, lr_exemplar_loss, rl_exemplar_loss) = (\n",
    "            self.bidirectional_interaction_loss(\n",
    "                Z_anchor, Z_exemplar, target_anchor, target_exemplar\n",
    "            )\n",
    "        )\n",
    "\n",
    "        (random_sym_loss, lr_random_loss, rl_random_loss) = (\n",
    "            self.bidirectional_interaction_loss(\n",
    "                Z_anchor, Z_random, target_anchor, target_random\n",
    "            )\n",
    "        )\n",
    "\n",
    "        loss = (\n",
    "            exemplar_sym_loss\n",
    "            + random_sym_loss\n",
    "            + lr_exemplar_loss\n",
    "            + lr_random_loss\n",
    "            + rl_exemplar_loss\n",
    "            + rl_random_loss\n",
    "        ) / 6\n",
    "        \n",
    "        return loss, (\n",
    "            exemplar_sym_loss,\n",
    "            random_sym_loss,\n",
    "            lr_exemplar_loss,\n",
    "            lr_random_loss,\n",
    "            rl_exemplar_loss,\n",
    "            rl_random_loss,\n",
    "        )\n",
    "\n",
    "    def training_step(self, batch: RandomPairTrainBatch, batch_idx):  # type: ignore\n",
    "        loss, (\n",
    "            exemplar_sym_loss,\n",
    "            random_sym_loss,\n",
    "            lr_exemplar_loss,\n",
    "            lr_random_loss,\n",
    "            rl_exemplar_loss,\n",
    "            rl_random_loss,\n",
    "        ) = self.get_losses(batch)\n",
    "\n",
    "        self.log(\n",
    "            \"train_exemplar_sym_loss\",\n",
    "            exemplar_sym_loss,\n",
    "            batch_size=batch.B,\n",
    "            on_epoch=True,\n",
    "            enable_graph=True,\n",
    "        )\n",
    "\n",
    "        self.log(\n",
    "            \"train_random_sym_loss\",\n",
    "            random_sym_loss,\n",
    "            batch_size=batch.B,\n",
    "            on_epoch=True,\n",
    "            enable_graph=True,\n",
    "        )\n",
    "\n",
    "        self.log(\n",
    "            \"train_lr_exemplar_loss\",\n",
    "            lr_exemplar_loss,\n",
    "            batch_size=batch.B,\n",
    "            on_epoch=True,\n",
    "            enable_graph=True,\n",
    "        )\n",
    "        self.log(\n",
    "            \"train_lr_random_loss\",\n",
    "            lr_random_loss,\n",
    "            batch_size=batch.B,\n",
    "            on_epoch=True,\n",
    "            enable_graph=True,\n",
    "        )\n",
    "        self.log(\n",
    "            \"train_rl_exemplar_loss\",\n",
    "            rl_exemplar_loss,\n",
    "            batch_size=batch.B,\n",
    "            on_epoch=True,\n",
    "            enable_graph=True,\n",
    "        )\n",
    "        self.log(\n",
    "            \"train_rl_random_loss\",\n",
    "            rl_random_loss,\n",
    "            batch_size=batch.B,\n",
    "            on_epoch=True,\n",
    "            enable_graph=True,\n",
    "        )\n",
    "        self.log(\"train_loss\", loss, batch_size=batch.B, prog_bar=True, on_epoch=True)\n",
    "        return loss\n",
    "\n",
    "    def validation_step(self, batch: RandomPairTrainBatch, batch_idx):  # type: ignore\n",
    "        loss, (\n",
    "            exemplar_sym_loss,\n",
    "            random_sym_loss,\n",
    "            lr_exemplar_loss,\n",
    "            lr_random_loss,\n",
    "            rl_exemplar_loss,\n",
    "            rl_random_loss,\n",
    "        ) = self.get_losses(batch)\n",
    "\n",
    "        self.log(\n",
    "            \"val_exemplar_sym_loss\",\n",
    "            exemplar_sym_loss,\n",
    "            batch_size=batch.B,\n",
    "            on_epoch=True,\n",
    "            enable_graph=True,\n",
    "        )\n",
    "\n",
    "        self.log(\n",
    "            \"val_random_sym_loss\",\n",
    "            random_sym_loss,\n",
    "            batch_size=batch.B,\n",
    "            on_epoch=True,\n",
    "            enable_graph=True,\n",
    "        )\n",
    "\n",
    "        self.log(\n",
    "            \"val_lr_exemplar_loss\",\n",
    "            lr_exemplar_loss,\n",
    "            batch_size=batch.B,\n",
    "            on_epoch=True,\n",
    "            enable_graph=True,\n",
    "        )\n",
    "        self.log(\n",
    "            \"val_lr_random_loss\",\n",
    "            lr_random_loss,\n",
    "            batch_size=batch.B,\n",
    "            on_epoch=True,\n",
    "            enable_graph=True,\n",
    "        )\n",
    "        self.log(\n",
    "            \"val_rl_exemplar_loss\",\n",
    "            rl_exemplar_loss,\n",
    "            batch_size=batch.B,\n",
    "            on_epoch=True,\n",
    "            enable_graph=True,\n",
    "        )\n",
    "        self.log(\n",
    "            \"val_rl_random_loss\",\n",
    "            rl_random_loss,\n",
    "            batch_size=batch.B,\n",
    "            on_epoch=True,\n",
    "            enable_graph=True,\n",
    "        )\n",
    "        self.log(\"val_loss\", loss, batch_size=batch.B, prog_bar=True, on_epoch=True)\n",
    "        return loss"
   ]
  },
  {
   "cell_type": "code",
   "execution_count": 8,
   "id": "f8594915",
   "metadata": {},
   "outputs": [],
   "source": [
    "fdims = featurizers.SimpleMoleculeMolGraphFeaturizer().shape # the dimensions of the featurizer, given as (atom_dims, bond_dims).\n",
    "mp = chem_nn.BondMessagePassing()\n",
    "agg = chem_nn.NormAggregation()\n",
    "ffn_dims = mp.output_dim + len([f for f in df_train.columns if f.startswith(\"feat\")])\n",
    "ffn = chem_nn.BinaryClassificationFFN(n_tasks=1, input_dim=ffn_dims, activation=torch.nn.ELU(), dropout=0.3)\n",
    "batch_norm = True\n",
    "metric_list = [chem_nn.metrics.BinaryF1Score(), chem_nn.metrics.BinaryAUPRC(), chem_nn.metrics.BinaryAUROC()]\n",
    "X_d_transform = chem_nn.ScaleTransform.from_standard_scaler(x_d_scaler)\n",
    "contrastive_mpnn = ContrastiveMPNN(mp, agg, ffn, batch_norm, metric_list, X_d_transform=X_d_transform)\n",
    "# contrastive_mpnn.max_lr = 0.01"
   ]
  },
  {
   "cell_type": "code",
   "execution_count": 9,
   "id": "2e0455da",
   "metadata": {},
   "outputs": [
    {
     "name": "stderr",
     "output_type": "stream",
     "text": [
      "\u001b[34m\u001b[1mwandb\u001b[0m: Currently logged in as: \u001b[33mrahul-e-dev\u001b[0m to \u001b[32mhttps://api.wandb.ai\u001b[0m. Use \u001b[1m`wandb login --relogin`\u001b[0m to force relogin\n"
     ]
    },
    {
     "data": {
      "text/html": [
       "Tracking run with wandb version 0.21.0"
      ],
      "text/plain": [
       "<IPython.core.display.HTML object>"
      ]
     },
     "metadata": {},
     "output_type": "display_data"
    },
    {
     "data": {
      "text/html": [
       "Run data is saved locally in <code>./wandb/run-20251019_212850-ka8ber82</code>"
      ],
      "text/plain": [
       "<IPython.core.display.HTML object>"
      ]
     },
     "metadata": {},
     "output_type": "display_data"
    },
    {
     "data": {
      "text/html": [
       "Syncing run <strong><a href='https://wandb.ai/rahul-e-dev/chemprop_delta_clf/runs/ka8ber82' target=\"_blank\">eternal-firebrand-213</a></strong> to <a href='https://wandb.ai/rahul-e-dev/chemprop_delta_clf' target=\"_blank\">Weights & Biases</a> (<a href='https://wandb.me/developer-guide' target=\"_blank\">docs</a>)<br>"
      ],
      "text/plain": [
       "<IPython.core.display.HTML object>"
      ]
     },
     "metadata": {},
     "output_type": "display_data"
    },
    {
     "data": {
      "text/html": [
       " View project at <a href='https://wandb.ai/rahul-e-dev/chemprop_delta_clf' target=\"_blank\">https://wandb.ai/rahul-e-dev/chemprop_delta_clf</a>"
      ],
      "text/plain": [
       "<IPython.core.display.HTML object>"
      ]
     },
     "metadata": {},
     "output_type": "display_data"
    },
    {
     "data": {
      "text/html": [
       " View run at <a href='https://wandb.ai/rahul-e-dev/chemprop_delta_clf/runs/ka8ber82' target=\"_blank\">https://wandb.ai/rahul-e-dev/chemprop_delta_clf/runs/ka8ber82</a>"
      ],
      "text/plain": [
       "<IPython.core.display.HTML object>"
      ]
     },
     "metadata": {},
     "output_type": "display_data"
    },
    {
     "name": "stderr",
     "output_type": "stream",
     "text": [
      "\u001b[34m\u001b[1mwandb\u001b[0m: logging graph, to disable use `wandb.watch(log_graph=False)`\n",
      "GPU available: True (cuda), used: True\n",
      "TPU available: False, using: 0 TPU cores\n",
      "HPU available: False, using: 0 HPUs\n",
      "/home/rahul/delta/.venv/lib/python3.12/site-packages/lightning/pytorch/utilities/parsing.py:45: Attribute 'metrics' removed from hparams because it cannot be pickled. You can suppress this warning by setting `self.save_hyperparameters(ignore=['metrics'])`.\n",
      "/home/rahul/delta/.venv/lib/python3.12/site-packages/lightning/pytorch/utilities/parsing.py:45: Attribute 'X_d_transform' removed from hparams because it cannot be pickled. You can suppress this warning by setting `self.save_hyperparameters(ignore=['X_d_transform'])`.\n",
      "LOCAL_RANK: 0 - CUDA_VISIBLE_DEVICES: [0]\n",
      "Loading `train_dataloader` to estimate number of stepping batches.\n",
      "\n",
      "  | Name            | Type                    | Params | Mode \n",
      "--------------------------------------------------------------------\n",
      "0 | message_passing | BondMessagePassing      | 227 K  | train\n",
      "1 | agg             | NormAggregation         | 0      | train\n",
      "2 | bn              | BatchNorm1d             | 600    | train\n",
      "3 | predictor       | BinaryClassificationFFN | 155 K  | train\n",
      "4 | X_d_transform   | ScaleTransform          | 0      | train\n",
      "5 | metrics         | ModuleList              | 0      | train\n",
      "6 | interaction     | RESCALInteraction       | 90.0 K | train\n",
      "7 | loss_fn         | BCEWithLogitsLoss       | 0      | train\n",
      "--------------------------------------------------------------------\n",
      "474 K     Trainable params\n",
      "0         Non-trainable params\n",
      "474 K     Total params\n",
      "1.896     Total estimated model params size (MB)\n",
      "30        Modules in train mode\n",
      "0         Modules in eval mode\n"
     ]
    },
    {
     "data": {
      "application/vnd.jupyter.widget-view+json": {
       "model_id": "3aa2fe1760eb425da5fb51e714062e91",
       "version_major": 2,
       "version_minor": 0
      },
      "text/plain": [
       "Sanity Checking: |          | 0/? [00:00<?, ?it/s]"
      ]
     },
     "metadata": {},
     "output_type": "display_data"
    },
    {
     "data": {
      "application/vnd.jupyter.widget-view+json": {
       "model_id": "15a1f5f885fa416e960e4d9060382f8a",
       "version_major": 2,
       "version_minor": 0
      },
      "text/plain": [
       "Training: |          | 0/? [00:00<?, ?it/s]"
      ]
     },
     "metadata": {},
     "output_type": "display_data"
    },
    {
     "data": {
      "application/vnd.jupyter.widget-view+json": {
       "model_id": "91d4be3ac6d84d849bf8c643ba75a36b",
       "version_major": 2,
       "version_minor": 0
      },
      "text/plain": [
       "Validation: |          | 0/? [00:00<?, ?it/s]"
      ]
     },
     "metadata": {},
     "output_type": "display_data"
    },
    {
     "name": "stderr",
     "output_type": "stream",
     "text": [
      "Metric val_loss improved. New best score: 0.417\n"
     ]
    },
    {
     "data": {
      "application/vnd.jupyter.widget-view+json": {
       "model_id": "b878381ff5f0403facbc3a6878136ad6",
       "version_major": 2,
       "version_minor": 0
      },
      "text/plain": [
       "Validation: |          | 0/? [00:00<?, ?it/s]"
      ]
     },
     "metadata": {},
     "output_type": "display_data"
    },
    {
     "data": {
      "application/vnd.jupyter.widget-view+json": {
       "model_id": "d49dc7fc99684098b1c1e8b217719477",
       "version_major": 2,
       "version_minor": 0
      },
      "text/plain": [
       "Validation: |          | 0/? [00:00<?, ?it/s]"
      ]
     },
     "metadata": {},
     "output_type": "display_data"
    },
    {
     "name": "stderr",
     "output_type": "stream",
     "text": [
      "Metric val_loss improved by 0.025 >= min_delta = 0.0. New best score: 0.391\n"
     ]
    },
    {
     "data": {
      "application/vnd.jupyter.widget-view+json": {
       "model_id": "e9ea6d5fa5d4483bbd50d2993a22bc20",
       "version_major": 2,
       "version_minor": 0
      },
      "text/plain": [
       "Validation: |          | 0/? [00:00<?, ?it/s]"
      ]
     },
     "metadata": {},
     "output_type": "display_data"
    },
    {
     "data": {
      "application/vnd.jupyter.widget-view+json": {
       "model_id": "f61282116d3744b091c233fd500aca38",
       "version_major": 2,
       "version_minor": 0
      },
      "text/plain": [
       "Validation: |          | 0/? [00:00<?, ?it/s]"
      ]
     },
     "metadata": {},
     "output_type": "display_data"
    },
    {
     "name": "stderr",
     "output_type": "stream",
     "text": [
      "Metric val_loss improved by 0.019 >= min_delta = 0.0. New best score: 0.372\n"
     ]
    },
    {
     "data": {
      "application/vnd.jupyter.widget-view+json": {
       "model_id": "4f8465dee25c48b08d0e112629c3dff0",
       "version_major": 2,
       "version_minor": 0
      },
      "text/plain": [
       "Validation: |          | 0/? [00:00<?, ?it/s]"
      ]
     },
     "metadata": {},
     "output_type": "display_data"
    },
    {
     "data": {
      "application/vnd.jupyter.widget-view+json": {
       "model_id": "892c665feb8d44708fce313d449e9b97",
       "version_major": 2,
       "version_minor": 0
      },
      "text/plain": [
       "Validation: |          | 0/? [00:00<?, ?it/s]"
      ]
     },
     "metadata": {},
     "output_type": "display_data"
    },
    {
     "name": "stderr",
     "output_type": "stream",
     "text": [
      "Metric val_loss improved by 0.008 >= min_delta = 0.0. New best score: 0.364\n"
     ]
    },
    {
     "data": {
      "application/vnd.jupyter.widget-view+json": {
       "model_id": "ac613da401db4212ac99092ab12ccb96",
       "version_major": 2,
       "version_minor": 0
      },
      "text/plain": [
       "Validation: |          | 0/? [00:00<?, ?it/s]"
      ]
     },
     "metadata": {},
     "output_type": "display_data"
    },
    {
     "name": "stderr",
     "output_type": "stream",
     "text": [
      "Metric val_loss improved by 0.001 >= min_delta = 0.0. New best score: 0.363\n"
     ]
    },
    {
     "data": {
      "application/vnd.jupyter.widget-view+json": {
       "model_id": "fdc0a81ef7014d7fb132e431d01d87c2",
       "version_major": 2,
       "version_minor": 0
      },
      "text/plain": [
       "Validation: |          | 0/? [00:00<?, ?it/s]"
      ]
     },
     "metadata": {},
     "output_type": "display_data"
    },
    {
     "data": {
      "application/vnd.jupyter.widget-view+json": {
       "model_id": "aef2862acc4a4bc89ca9e7e3b6560109",
       "version_major": 2,
       "version_minor": 0
      },
      "text/plain": [
       "Validation: |          | 0/? [00:00<?, ?it/s]"
      ]
     },
     "metadata": {},
     "output_type": "display_data"
    },
    {
     "name": "stderr",
     "output_type": "stream",
     "text": [
      "Metric val_loss improved by 0.014 >= min_delta = 0.0. New best score: 0.349\n"
     ]
    },
    {
     "data": {
      "application/vnd.jupyter.widget-view+json": {
       "model_id": "baea23847ad247efa7e6dc470098f3a6",
       "version_major": 2,
       "version_minor": 0
      },
      "text/plain": [
       "Validation: |          | 0/? [00:00<?, ?it/s]"
      ]
     },
     "metadata": {},
     "output_type": "display_data"
    },
    {
     "data": {
      "application/vnd.jupyter.widget-view+json": {
       "model_id": "3c26c9e1cf114df1b35aa2da4fca81b4",
       "version_major": 2,
       "version_minor": 0
      },
      "text/plain": [
       "Validation: |          | 0/? [00:00<?, ?it/s]"
      ]
     },
     "metadata": {},
     "output_type": "display_data"
    },
    {
     "name": "stderr",
     "output_type": "stream",
     "text": [
      "Metric val_loss improved by 0.014 >= min_delta = 0.0. New best score: 0.335\n"
     ]
    },
    {
     "data": {
      "application/vnd.jupyter.widget-view+json": {
       "model_id": "f8fe402c993e439fa68b6f327b48921d",
       "version_major": 2,
       "version_minor": 0
      },
      "text/plain": [
       "Validation: |          | 0/? [00:00<?, ?it/s]"
      ]
     },
     "metadata": {},
     "output_type": "display_data"
    },
    {
     "data": {
      "application/vnd.jupyter.widget-view+json": {
       "model_id": "8ffd0c8212204fe3aedcd6b94843bf95",
       "version_major": 2,
       "version_minor": 0
      },
      "text/plain": [
       "Validation: |          | 0/? [00:00<?, ?it/s]"
      ]
     },
     "metadata": {},
     "output_type": "display_data"
    },
    {
     "data": {
      "application/vnd.jupyter.widget-view+json": {
       "model_id": "09289ba13b124038a3f16a6c61d3a6cc",
       "version_major": 2,
       "version_minor": 0
      },
      "text/plain": [
       "Validation: |          | 0/? [00:00<?, ?it/s]"
      ]
     },
     "metadata": {},
     "output_type": "display_data"
    },
    {
     "data": {
      "application/vnd.jupyter.widget-view+json": {
       "model_id": "45dbb6f0cdd54648b6353a7d78f18366",
       "version_major": 2,
       "version_minor": 0
      },
      "text/plain": [
       "Validation: |          | 0/? [00:00<?, ?it/s]"
      ]
     },
     "metadata": {},
     "output_type": "display_data"
    },
    {
     "data": {
      "application/vnd.jupyter.widget-view+json": {
       "model_id": "d7f1ceae3fe546a6b2977c3e08bec267",
       "version_major": 2,
       "version_minor": 0
      },
      "text/plain": [
       "Validation: |          | 0/? [00:00<?, ?it/s]"
      ]
     },
     "metadata": {},
     "output_type": "display_data"
    },
    {
     "data": {
      "application/vnd.jupyter.widget-view+json": {
       "model_id": "f3a23eb48f4f4ee9a2453a76e9da6576",
       "version_major": 2,
       "version_minor": 0
      },
      "text/plain": [
       "Validation: |          | 0/? [00:00<?, ?it/s]"
      ]
     },
     "metadata": {},
     "output_type": "display_data"
    },
    {
     "data": {
      "application/vnd.jupyter.widget-view+json": {
       "model_id": "290470d422174cafa10caf6d1fc6131a",
       "version_major": 2,
       "version_minor": 0
      },
      "text/plain": [
       "Validation: |          | 0/? [00:00<?, ?it/s]"
      ]
     },
     "metadata": {},
     "output_type": "display_data"
    },
    {
     "data": {
      "application/vnd.jupyter.widget-view+json": {
       "model_id": "82a5f46fd5564298a741840f18f80bb4",
       "version_major": 2,
       "version_minor": 0
      },
      "text/plain": [
       "Validation: |          | 0/? [00:00<?, ?it/s]"
      ]
     },
     "metadata": {},
     "output_type": "display_data"
    },
    {
     "name": "stderr",
     "output_type": "stream",
     "text": [
      "`Trainer.fit` stopped: `max_epochs=20` reached.\n"
     ]
    }
   ],
   "source": [
    "wandb.finish()\n",
    "wandb_logger = WandbLogger(project=\"chemprop_delta_clf\", log_model=\"all\", save_code=True)\n",
    "wandb_logger.watch(contrastive_mpnn, log=\"gradients\", log_freq=50) \n",
    "wandb_logger.experiment.mark_preempting()\n",
    "\n",
    "trainer = L.Trainer(\n",
    "    logger=wandb_logger,\n",
    "    enable_checkpointing=True,  # Use `True` if you want to save model checkpoints. The checkpoints will be saved in the `checkpoints` folder.\n",
    "    enable_progress_bar=True,\n",
    "    accelerator=\"auto\",\n",
    "    devices=1,\n",
    "    max_epochs=20,\n",
    "    # reload_dataloaders_every_n_epochs=1,\n",
    "    log_every_n_steps=50,\n",
    "    callbacks=[\n",
    "        EarlyStopping(monitor=\"val_loss\", mode=\"min\", verbose=True, patience=10),\n",
    "        ModelCheckpoint(monitor=\"val_loss\", mode=\"min\", save_top_k=1)\n",
    "    ]\n",
    ")\n",
    "\n",
    "trainer.fit(contrastive_mpnn, datamodule=RandomPairDataModule(train_mol_dataset, val_mol_dataset))"
   ]
  },
  {
   "cell_type": "code",
   "execution_count": 10,
   "id": "a41a213b",
   "metadata": {},
   "outputs": [
    {
     "name": "stderr",
     "output_type": "stream",
     "text": [
      "\u001b[34m\u001b[1mwandb\u001b[0m:   1 of 1 files downloaded.  \n"
     ]
    },
    {
     "data": {
      "text/plain": [
       "<All keys matched successfully>"
      ]
     },
     "execution_count": 10,
     "metadata": {},
     "output_type": "execute_result"
    }
   ],
   "source": [
    "from pathlib import Path\n",
    "\n",
    "run_id = wandb_logger.experiment.id\n",
    "checkpoint_reference = f\"rahul-e-dev/chemprop_delta_clf/model-{run_id}:best\"\n",
    "artifact_dir = wandb_logger.download_artifact(checkpoint_reference, artifact_type=\"model\")\n",
    "\n",
    "\n",
    "ckpt = torch.load(Path(artifact_dir) / \"model.ckpt\", map_location='cpu', weights_only=False)\n",
    "hparams = ckpt.get('hyper_parameters', ckpt.get('hparams', {}))\n",
    "contrastive_mpnn.load_state_dict(ckpt['state_dict'])"
   ]
  },
  {
   "cell_type": "code",
   "execution_count": 11,
   "id": "b39709a5",
   "metadata": {},
   "outputs": [],
   "source": [
    "contrastive_mpnn = contrastive_mpnn.eval()"
   ]
  },
  {
   "cell_type": "code",
   "execution_count": 12,
   "id": "701adf3f",
   "metadata": {},
   "outputs": [],
   "source": [
    "from tqdm.auto import tqdm\n",
    "\n",
    "@torch.no_grad()\n",
    "def embed_all(mol_dataset: data.datasets.MoleculeDataset, contrastive_mpnn):\n",
    "    dl = DataLoader(mol_dataset, batch_size=64, shuffle=False, collate_fn=data.dataloader.collate_batch)\n",
    "    all_embeds = []\n",
    "    for batch in tqdm(dl, total=len(dl)):\n",
    "        batch = move_data_to_device(batch, contrastive_mpnn.device)\n",
    "        res = contrastive_mpnn.embed_simple_batch(batch)\n",
    "        all_embeds.append(res['embeds'])\n",
    "\n",
    "    all_embeds = torch.cat(all_embeds)\n",
    "    return all_embeds"
   ]
  },
  {
   "cell_type": "code",
   "execution_count": 19,
   "id": "f53cd777",
   "metadata": {},
   "outputs": [
    {
     "data": {
      "application/vnd.jupyter.widget-view+json": {
       "model_id": "d4b3a5e292b7416ea45c35bdb5510978",
       "version_major": 2,
       "version_minor": 0
      },
      "text/plain": [
       "  0%|          | 0/162 [00:00<?, ?it/s]"
      ]
     },
     "metadata": {},
     "output_type": "display_data"
    },
    {
     "data": {
      "application/vnd.jupyter.widget-view+json": {
       "model_id": "56e63ebf483246fca1cd3f3e8f3a0e0c",
       "version_major": 2,
       "version_minor": 0
      },
      "text/plain": [
       "  0%|          | 0/21 [00:00<?, ?it/s]"
      ]
     },
     "metadata": {},
     "output_type": "display_data"
    }
   ],
   "source": [
    "train_embeds = embed_all(train_mol_dataset, contrastive_mpnn)\n",
    "test_embeds = embed_all(test_mol_dataset, contrastive_mpnn)"
   ]
  },
  {
   "cell_type": "code",
   "execution_count": 20,
   "id": "aee1ed85",
   "metadata": {},
   "outputs": [],
   "source": [
    "exemplar_idxs = np.argwhere(train_mol_dataset.Y.squeeze() > 50)\n",
    "exemplar_embeds = train_embeds[exemplar_idxs].squeeze()\n",
    "exemplar_targets = train_mol_dataset.Y[exemplar_idxs].squeeze()"
   ]
  },
  {
   "cell_type": "code",
   "execution_count": null,
   "id": "67ae3bcf",
   "metadata": {},
   "outputs": [],
   "source": [
    "with torch.no_grad():\n",
    "    all_preds = contrastive_mpnn.interaction(exemplar_embeds, test_embeds).sigmoid()\n",
    "    all_preds = all_preds.mean(axis=-1)\n",
    "    all_preds = all_preds.detach().numpy().squeeze()\n",
    "    all_true = test_mol_dataset.Y > 50"
   ]
  },
  {
   "cell_type": "code",
   "execution_count": null,
   "id": "3b175c6b",
   "metadata": {},
   "outputs": [],
   "source": []
  },
  {
   "cell_type": "code",
   "execution_count": null,
   "id": "88248296",
   "metadata": {},
   "outputs": [],
   "source": []
  },
  {
   "cell_type": "code",
   "execution_count": null,
   "id": "165ab99b",
   "metadata": {},
   "outputs": [],
   "source": []
  },
  {
   "cell_type": "code",
   "execution_count": null,
   "id": "f3a5f4b4",
   "metadata": {},
   "outputs": [],
   "source": []
  },
  {
   "cell_type": "code",
   "execution_count": null,
   "id": "f72c8009",
   "metadata": {},
   "outputs": [],
   "source": []
  },
  {
   "cell_type": "code",
   "execution_count": null,
   "id": "60936239",
   "metadata": {},
   "outputs": [],
   "source": []
  },
  {
   "cell_type": "code",
   "execution_count": null,
   "id": "ed3a6077",
   "metadata": {},
   "outputs": [],
   "source": []
  },
  {
   "cell_type": "code",
   "execution_count": 26,
   "id": "e74f84ff",
   "metadata": {},
   "outputs": [
    {
     "data": {
      "text/plain": [
       "((1282, 1), (1282,))"
      ]
     },
     "execution_count": 26,
     "metadata": {},
     "output_type": "execute_result"
    }
   ],
   "source": [
    "all_true.shape, all_preds.shape"
   ]
  },
  {
   "cell_type": "code",
   "execution_count": 27,
   "id": "2bcb90aa",
   "metadata": {},
   "outputs": [],
   "source": [
    "from sklearn.metrics import accuracy_score, f1_score, precision_score, average_precision_score, roc_auc_score, balanced_accuracy_score, recall_score\n",
    "\n",
    "wandb_logger.log_table(\n",
    "    'final_metrics', \n",
    "    ['accuracy', 'balanced_accuracy', 'f1', 'precision', 'recall', 'AUCROC', 'PRAUC'],\n",
    "    [[\n",
    "        accuracy_score(all_true, all_preds > 0.5),\n",
    "        balanced_accuracy_score(all_true, all_preds > 0.5),\n",
    "        f1_score(all_true, all_preds > 0.5),\n",
    "        precision_score(all_true, all_preds > 0.5),\n",
    "        recall_score(all_true, all_preds > 0.5),\n",
    "        roc_auc_score(all_true, all_preds),\n",
    "        average_precision_score(all_true, all_preds)\n",
    "    ]]\n",
    ")"
   ]
  },
  {
   "cell_type": "code",
   "execution_count": 28,
   "id": "f9727533",
   "metadata": {},
   "outputs": [
    {
     "name": "stderr",
     "output_type": "stream",
     "text": [
      "\u001b[34m\u001b[1mwandb\u001b[0m: \u001b[32m\u001b[41mERROR\u001b[0m The nbformat package was not found. It is required to save notebook history.\n"
     ]
    },
    {
     "data": {
      "text/html": [],
      "text/plain": [
       "<IPython.core.display.HTML object>"
      ]
     },
     "metadata": {},
     "output_type": "display_data"
    },
    {
     "data": {
      "text/html": [
       "<br>    <style><br>        .wandb-row {<br>            display: flex;<br>            flex-direction: row;<br>            flex-wrap: wrap;<br>            justify-content: flex-start;<br>            width: 100%;<br>        }<br>        .wandb-col {<br>            display: flex;<br>            flex-direction: column;<br>            flex-basis: 100%;<br>            flex: 1;<br>            padding: 10px;<br>        }<br>    </style><br><div class=\"wandb-row\"><div class=\"wandb-col\"><h3>Run history:</h3><br/><table class=\"wandb\"><tr><td>epoch</td><td>▁▁▁▁▁▁▂▂▂▂▂▂▂▂▃▃▃▃▄▄▄▄▄▄▄▅▅▆▆▆▇▇▇▇▇▇▇███</td></tr><tr><td>train_exemplar_sym_loss_epoch</td><td>█▂▂▁▁▁▁▁▁▁▁▁▁▁▁▁▁▁▁▁</td></tr><tr><td>train_exemplar_sym_loss_step</td><td>█▃▂▃▂▃▁▂▁▂▁▁▁▂▁▁▁▁▁▁▁▁▁▁▁▁▁▁▁▁▁▁▁▁▁▁▁▁▁▁</td></tr><tr><td>train_loss_epoch</td><td>█▄▄▃▃▃▂▂▂▂▂▂▂▂▁▁▁▁▁▁</td></tr><tr><td>train_loss_step</td><td>█▆▅▄▄▄▆▄▄▆▃▄▃▄▃▄▂▂▂▂▄▃▂▃▂▂▁▁▁▁▂▁▁▂▂▃▄▂▂▁</td></tr><tr><td>train_lr_exemplar_loss_epoch</td><td>█▄▃▃▂▂▂▂▂▂▂▂▂▁▁▁▁▁▁▁</td></tr><tr><td>train_lr_exemplar_loss_step</td><td>█▃▃▆▆▄▇▃▅▄▁▄▅▃▃▃▃▃▃▃▃▄▃▃▃▂▁▂▃▅▁▃▂▃▂▃▂▁▃▃</td></tr><tr><td>train_lr_random_loss_epoch</td><td>█▇▆▅▅▅▄▄▄▃▃▃▃▂▂▂▂▁▁▁</td></tr><tr><td>train_lr_random_loss_step</td><td>▇▆▄▆▅▆▅▄█▃▄▆▄▄▆▄▃▃▃▄▄▃▆▃▄▃▃▅▃▃▃▄▂▂▅▁▂▂▂▃</td></tr><tr><td>train_random_sym_loss_epoch</td><td>█▃▂▂▁▁▁▁▁▁▁▁▁▁▁▁▁▁▁▁</td></tr><tr><td>train_random_sym_loss_step</td><td>█▄▅▅▃▂▂▁▂▂▁▂▂▂▁▁▁▁▁▁▁▁▁▁▁▁▁▁▁▁▂▁▁▁▁▁▁▁▁▁</td></tr><tr><td>train_rl_exemplar_loss_epoch</td><td>█▄▃▃▂▂▂▂▂▂▂▂▂▁▁▁▁▁▁▁</td></tr><tr><td>train_rl_exemplar_loss_step</td><td>█▄▃█▃▄▂▁▄▅▂▄▂▂▂▃▅▄▃▃▅▄▃▄▄▃▁▂▃▃▁▁▂▅▁▂▁▃▂▃</td></tr><tr><td>train_rl_random_loss_epoch</td><td>█▇▆▅▅▅▄▄▄▃▃▃▃▂▂▂▂▁▁▁</td></tr><tr><td>train_rl_random_loss_step</td><td>▆▇█▇▇▅▅▆▅▅▄▆▇▃▅▆▄▄▅▄▅▄▄▄▄▃▃▆▃▄▃▅▃▂▃▂▃▂▂▁</td></tr><tr><td>trainer/global_step</td><td>▁▁▁▁▁▂▂▂▂▂▃▃▃▃▄▄▄▄▄▅▅▅▅▅▅▆▆▆▆▆▇▇▇▇▇▇▇███</td></tr><tr><td>val_exemplar_sym_loss</td><td>█▅▃▂▂▂▂▂▂▁▁▁▂▁▁▁▁▁▁▁</td></tr><tr><td>val_loss</td><td>▇█▅▅▄▄▃▃▆▂▄▁▃▂▃▂▂▃▂▃</td></tr><tr><td>val_lr_exemplar_loss</td><td>▅█▅▆▃▄▄▄▇▂▅▁▂▂▃▂▃▂▂▃</td></tr><tr><td>val_lr_random_loss</td><td>▇█▅▇▄▃▃▂▅▂▄▁▄▄▄▃▃▄▃▅</td></tr><tr><td>val_random_sym_loss</td><td>█▅▃▂▂▃▂▁▂▂▁▁▁▁▁▁▁▁▁▁</td></tr><tr><td>val_rl_exemplar_loss</td><td>▆█▅▅▄▄▃▄▆▂▄▁▃▂▂▂▂▂▂▂</td></tr><tr><td>val_rl_random_loss</td><td>▇█▅▆▄▃▃▂▅▂▄▁▄▄▄▃▃▄▃▅</td></tr></table><br/></div><div class=\"wandb-col\"><h3>Run summary:</h3><br/><table class=\"wandb\"><tr><td>epoch</td><td>19</td></tr><tr><td>train_exemplar_sym_loss_epoch</td><td>0.00447</td></tr><tr><td>train_exemplar_sym_loss_step</td><td>0.00392</td></tr><tr><td>train_loss_epoch</td><td>0.21961</td></tr><tr><td>train_loss_step</td><td>0.20238</td></tr><tr><td>train_lr_exemplar_loss_epoch</td><td>0.17656</td></tr><tr><td>train_lr_exemplar_loss_step</td><td>0.27012</td></tr><tr><td>train_lr_random_loss_epoch</td><td>0.47426</td></tr><tr><td>train_lr_random_loss_step</td><td>0.32941</td></tr><tr><td>train_random_sym_loss_epoch</td><td>0.01077</td></tr><tr><td>train_random_sym_loss_step</td><td>0.00827</td></tr><tr><td>train_rl_exemplar_loss_epoch</td><td>0.17688</td></tr><tr><td>train_rl_exemplar_loss_step</td><td>0.26634</td></tr><tr><td>train_rl_random_loss_epoch</td><td>0.47474</td></tr><tr><td>train_rl_random_loss_step</td><td>0.33622</td></tr><tr><td>trainer/global_step</td><td>6479</td></tr><tr><td>val_exemplar_sym_loss</td><td>0.00191</td></tr><tr><td>val_loss</td><td>0.36578</td></tr><tr><td>val_lr_exemplar_loss</td><td>0.4727</td></tr><tr><td>val_lr_random_loss</td><td>0.62381</td></tr><tr><td>val_random_sym_loss</td><td>0.00156</td></tr><tr><td>val_rl_exemplar_loss</td><td>0.47122</td></tr><tr><td>val_rl_random_loss</td><td>0.62346</td></tr></table><br/></div></div>"
      ],
      "text/plain": [
       "<IPython.core.display.HTML object>"
      ]
     },
     "metadata": {},
     "output_type": "display_data"
    },
    {
     "data": {
      "text/html": [
       " View run <strong style=\"color:#cdcd00\">eternal-firebrand-213</strong> at: <a href='https://wandb.ai/rahul-e-dev/chemprop_delta_clf/runs/ka8ber82' target=\"_blank\">https://wandb.ai/rahul-e-dev/chemprop_delta_clf/runs/ka8ber82</a><br> View project at: <a href='https://wandb.ai/rahul-e-dev/chemprop_delta_clf' target=\"_blank\">https://wandb.ai/rahul-e-dev/chemprop_delta_clf</a><br>Synced 6 W&B file(s), 1 media file(s), 46 artifact file(s) and 0 other file(s)"
      ],
      "text/plain": [
       "<IPython.core.display.HTML object>"
      ]
     },
     "metadata": {},
     "output_type": "display_data"
    },
    {
     "data": {
      "text/html": [
       "Find logs at: <code>./wandb/run-20251019_212850-ka8ber82/logs</code>"
      ],
      "text/plain": [
       "<IPython.core.display.HTML object>"
      ]
     },
     "metadata": {},
     "output_type": "display_data"
    }
   ],
   "source": [
    "wandb.finish()"
   ]
  },
  {
   "cell_type": "code",
   "execution_count": null,
   "id": "99326675",
   "metadata": {},
   "outputs": [],
   "source": []
  },
  {
   "cell_type": "code",
   "execution_count": null,
   "id": "ad280da4",
   "metadata": {},
   "outputs": [],
   "source": [
    "from tqdm.auto import tqdm\n",
    "\n",
    "@torch.no_grad()\n",
    "def embed_all(mol_dataset: data.datasets.MoleculeDataset, contrastive_mpnn):\n",
    "    dl = DataLoader(mol_dataset, batch_size=64, shuffle=False, collate_fn=data.dataloader.collate_batch)\n",
    "    all_embeds = []\n",
    "    for batch in tqdm(dl, total=len(dl)):\n",
    "        batch = move_data_to_device(batch, contrastive_mpnn.device)\n",
    "        res = contrastive_mpnn.embed_simple_batch(batch)\n",
    "        all_embeds.append(res['embeds'])\n",
    "\n",
    "    all_embeds = torch.cat(all_embeds)\n",
    "    return all_embeds\n",
    "\n",
    "@torch.no_grad()\n",
    "def mine_hard_and_rand_negatives_for_anchor(anchor_idx, all_embeds: torch.Tensor, all_targets: torch.Tensor, clf: torch.nn.Linear):\n",
    "    anchor = all_embeds[anchor_idx]\n",
    "    anchor = anchor.view(1, -1).expand_as(all_embeds)\n",
    "    logits = clf(torch.cat([anchor, all_embeds], dim=-1)).squeeze()\n",
    "    anchor_target = all_targets[anchor_idx]\n",
    "\n",
    "    negative_mask = torch.logical_xor(logits > 0.5, anchor_target > all_targets)\n",
    "    logits[~negative_mask] = float(\"-inf\")\n",
    "\n",
    "    _, hard_neg_idxs = torch.topk(logits, 3, largest=True)\n",
    "\n",
    "    negative_mask[hard_neg_idxs] = False\n",
    "\n",
    "    rand_neg_slection_prob = torch.where(negative_mask, 1.0, float(\"-inf\")).softmax(dim=-1)\n",
    "    rand_neg_idxs = torch.multinomial(rand_neg_slection_prob, 4)\n"
   ]
  },
  {
   "cell_type": "code",
   "execution_count": null,
   "id": "883b8dfd",
   "metadata": {},
   "outputs": [],
   "source": []
  },
  {
   "cell_type": "code",
   "execution_count": null,
   "id": "818bb30a",
   "metadata": {},
   "outputs": [],
   "source": []
  }
 ],
 "metadata": {
  "kernelspec": {
   "display_name": "delta",
   "language": "python",
   "name": "python3"
  },
  "language_info": {
   "codemirror_mode": {
    "name": "ipython",
    "version": 3
   },
   "file_extension": ".py",
   "mimetype": "text/x-python",
   "name": "python",
   "nbconvert_exporter": "python",
   "pygments_lexer": "ipython3",
   "version": "3.12.3"
  }
 },
 "nbformat": 4,
 "nbformat_minor": 5
}
