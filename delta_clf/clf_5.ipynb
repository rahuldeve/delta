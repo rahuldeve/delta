{
 "cells": [
  {
   "cell_type": "code",
   "execution_count": 1,
   "id": "e763a621",
   "metadata": {},
   "outputs": [
    {
     "name": "stderr",
     "output_type": "stream",
     "text": [
      "\u001b[34m\u001b[1mwandb\u001b[0m: \u001b[33mWARNING\u001b[0m If you're specifying your api key in code, ensure this code is not shared publicly.\n",
      "\u001b[34m\u001b[1mwandb\u001b[0m: \u001b[33mWARNING\u001b[0m Consider setting the WANDB_API_KEY environment variable, or running `wandb login` from the command line.\n",
      "\u001b[34m\u001b[1mwandb\u001b[0m: Appending key for api.wandb.ai to your netrc file: /home/rahul_e_dev/.netrc\n",
      "\u001b[34m\u001b[1mwandb\u001b[0m: Currently logged in as: \u001b[33mrahul-e-dev\u001b[0m to \u001b[32mhttps://api.wandb.ai\u001b[0m. Use \u001b[1m`wandb login --relogin`\u001b[0m to force relogin\n"
     ]
    },
    {
     "data": {
      "text/plain": [
       "True"
      ]
     },
     "execution_count": 1,
     "metadata": {},
     "output_type": "execute_result"
    }
   ],
   "source": [
    "import sys\n",
    "\n",
    "sys.path.append('../')\n",
    "\n",
    "import os\n",
    "import random\n",
    "import pandas as pd\n",
    "import lightning as L\n",
    "import numpy as np\n",
    "import torch\n",
    "from chemprop import data, featurizers, models\n",
    "from chemprop import nn as chem_nn\n",
    "from lightning.pytorch.callbacks.early_stopping import EarlyStopping\n",
    "from lightning.pytorch.callbacks.model_checkpoint import ModelCheckpoint\n",
    "from lightning.pytorch.loggers import WandbLogger\n",
    "from torch.utils.data import DataLoader, Dataset\n",
    "from tqdm.auto import tqdm\n",
    "from pytorch_lightning.utilities import move_data_to_device\n",
    "import pandas as pd\n",
    "import rdkit.Chem as Chem\n",
    "from rdkit.rdBase import BlockLogs\n",
    "from sklearn.model_selection import GroupShuffleSplit\n",
    "from commons.utils import get_scaffold, standardize\n",
    "from typing import NamedTuple\n",
    "\n",
    "import wandb\n",
    "# from commons.data import load_and_split_gsk_dataset\n",
    "\n",
    "RANDOM_SEED = 42\n",
    "\n",
    "def set_seeds(seed):\n",
    "    random.seed(seed)\n",
    "    np.random.seed(seed)\n",
    "    torch.manual_seed(seed)\n",
    "    torch.cuda.manual_seed_all(seed)\n",
    "\n",
    "set_seeds(RANDOM_SEED)\n",
    "\n",
    "# load_dotenv('.env.secret')\n",
    "wandb.login(key='cf344975eb80edf6f0d52af80528cc6094234caf')"
   ]
  },
  {
   "cell_type": "code",
   "execution_count": 2,
   "id": "6fb18a0e",
   "metadata": {},
   "outputs": [],
   "source": [
    "def mol_to_inchi(mol):\n",
    "    with BlockLogs():\n",
    "        return Chem.MolToInchi(mol)\n",
    "\n",
    "\n",
    "def load_and_split_gsk_dataset(path, RANDOM_SEED):\n",
    "    df = pd.read_csv(path)\n",
    "    df = df.iloc[:, 1:]\n",
    "    df.columns = [\"smiles\", \"per_inhibition\"]\n",
    "\n",
    "    # standardize and convert to inchi\n",
    "    df[\"mol\"] = df[\"smiles\"].map(standardize)\n",
    "    df = df.dropna(subset=[\"mol\"])\n",
    "    df[\"inchi\"] = df[\"mol\"].map(mol_to_inchi)\n",
    "    df = df.groupby([\"inchi\"]).filter(lambda x: len(x) == 1).reset_index(drop=True)\n",
    "\n",
    "    clusters, _ = pd.factorize(\n",
    "        df[\"mol\"]\n",
    "        .map(Chem.MolToSmiles)  # type: ignore\n",
    "        .map(get_scaffold)\n",
    "    )\n",
    "    clusters = pd.Series(clusters)\n",
    "\n",
    "    df = df.drop([\"smiles\", \"inchi\"], axis=1)\n",
    "\n",
    "    splitter = GroupShuffleSplit(n_splits=1, random_state=RANDOM_SEED)\n",
    "    train_idxs, val_test_idxs = next(splitter.split(df, groups=clusters))\n",
    "    df_train = df.loc[train_idxs].reset_index(drop=True)\n",
    "    df_val_test = df.loc[val_test_idxs].reset_index(drop=True)\n",
    "    clusters_val_test = clusters.iloc[val_test_idxs].reset_index(drop=True)\n",
    "\n",
    "    splitter = GroupShuffleSplit(n_splits=1, random_state=RANDOM_SEED, test_size=0.5)\n",
    "    val_idxs, test_idxs = next(splitter.split(df_val_test, groups=clusters_val_test))\n",
    "    df_val = df_val_test.loc[val_idxs].reset_index(drop=True)\n",
    "    df_test = df_val_test.loc[test_idxs].reset_index(drop=True)\n",
    "\n",
    "    return df_train, df_val, df_test"
   ]
  },
  {
   "cell_type": "code",
   "execution_count": 3,
   "id": "3d0aecfa",
   "metadata": {},
   "outputs": [],
   "source": [
    "df_train, df_val, df_test = load_and_split_gsk_dataset(\"../GSK_HepG2.csv\", RANDOM_SEED)"
   ]
  },
  {
   "cell_type": "code",
   "execution_count": 4,
   "id": "1974a46d",
   "metadata": {},
   "outputs": [],
   "source": [
    "def mol_to_molecule_datapoint(x):\n",
    "    return data.MoleculeDatapoint(x['mol'], x['per_inhibition'])\n",
    "\n",
    "featurizer = featurizers.SimpleMoleculeMolGraphFeaturizer()\n",
    "train_mol_dataset = data.MoleculeDataset(df_train.apply(mol_to_molecule_datapoint, axis=1), featurizer=featurizer)\n",
    "val_mol_dataset = data.MoleculeDataset(df_val.apply(mol_to_molecule_datapoint, axis=1), featurizer=featurizer)\n",
    "test_mol_dataset = data.MoleculeDataset(df_test.apply(mol_to_molecule_datapoint, axis=1), featurizer=featurizer)\n",
    "\n",
    "train_mol_dataset.cache = True\n",
    "val_mol_dataset.cache = True\n",
    "test_mol_dataset.cache = True"
   ]
  },
  {
   "cell_type": "code",
   "execution_count": 5,
   "id": "9fa43d87",
   "metadata": {},
   "outputs": [],
   "source": [
    "class RandomPairDataPoint(NamedTuple):\n",
    "    left: data.datasets.Datum\n",
    "    right: data.datasets.Datum\n",
    "\n",
    "\n",
    "class RandomPairTrainBatch(NamedTuple):\n",
    "    left: data.collate.TrainingBatch\n",
    "    right: data.collate.TrainingBatch\n",
    "\n",
    "    def batch_size(self):\n",
    "        return self.left.w.shape[0]\n",
    "    \n",
    "\n",
    "class RandomPairDataset(Dataset):\n",
    "    def __init__(self, mol_dataset):\n",
    "        super().__init__()\n",
    "        self.mol_dataset = mol_dataset\n",
    "        self.pairs: list = []\n",
    "\n",
    "        self.update_pairs()\n",
    "\n",
    "    def update_pairs(self):\n",
    "        N = len(self.mol_dataset)\n",
    "\n",
    "        pairs = [\n",
    "            (i, random.randint(0, N-1))\n",
    "            for i in range(N)\n",
    "        ]\n",
    "        self.pairs = pairs\n",
    "\n",
    "    def __len__(self):\n",
    "        return len(self.pairs)\n",
    "\n",
    "    def __getitem__(self, idx) -> RandomPairDataPoint:\n",
    "        left_idx, right_idx = self.pairs[idx]\n",
    "        return RandomPairDataPoint(\n",
    "            self.mol_dataset[left_idx], self.mol_dataset[right_idx]\n",
    "        )\n",
    "\n",
    "    @staticmethod\n",
    "    def collate_function(batch):\n",
    "        batch_left, batch_right = zip(*batch)\n",
    "        batch_left = data.dataloader.collate_batch(batch_left)\n",
    "        batch_right = data.dataloader.collate_batch(batch_right)\n",
    "        return RandomPairTrainBatch(batch_left, batch_right)"
   ]
  },
  {
   "cell_type": "code",
   "execution_count": 15,
   "id": "fe77114b",
   "metadata": {},
   "outputs": [],
   "source": [
    "class RandomPairDataModule(L.LightningDataModule):\n",
    "    def __init__(self, mol_ds_train, mol_ds_val) -> None:\n",
    "        super().__init__()\n",
    "        self.mol_ds_train: data.MoleculeDataset = mol_ds_train\n",
    "        self.mol_ds_val: data.MoleculeDataset = mol_ds_val\n",
    "        self.batch_size=128\n",
    "\n",
    "        self.ds_train = None\n",
    "        self.ds_val = None\n",
    "\n",
    "    def setup(self, stage=None):\n",
    "        self.ds_train = RandomPairDataset(self.mol_ds_train)\n",
    "        self.ds_val = RandomPairDataset(self.mol_ds_val)\n",
    "\n",
    "    def train_dataloader(self):\n",
    "        assert self.ds_train is not None\n",
    "        return DataLoader(\n",
    "            self.ds_train,\n",
    "            batch_size=self.batch_size,\n",
    "            shuffle=True,\n",
    "            collate_fn=RandomPairDataset.collate_function,\n",
    "            num_workers=12,\n",
    "        )\n",
    "\n",
    "    def val_dataloader(self):\n",
    "        assert self.ds_val is not None\n",
    "        return DataLoader(\n",
    "            self.ds_val,\n",
    "            batch_size=self.batch_size,\n",
    "            shuffle=False,\n",
    "            collate_fn=RandomPairDataset.collate_function,\n",
    "            num_workers=12,\n",
    "        )"
   ]
  },
  {
   "cell_type": "code",
   "execution_count": 16,
   "id": "a22de2a3",
   "metadata": {},
   "outputs": [],
   "source": [
    "from typing import Any, Iterable\n",
    "from chemprop.nn import Aggregation, ChempropMetric, MessagePassing, Predictor\n",
    "from chemprop.nn.transforms import ScaleTransform\n",
    "import pytorch_lightning as pl\n",
    "\n",
    "\n",
    "class ContrastiveMPNN(models.MPNN):\n",
    "    def __init__(\n",
    "        self,\n",
    "        message_passing: MessagePassing,\n",
    "        agg: Aggregation,\n",
    "        predictor: Predictor,\n",
    "        batch_norm: bool = False,\n",
    "        metrics: Iterable[ChempropMetric] | None = None,\n",
    "        warmup_epochs: int = 2,\n",
    "        init_lr: float = 0.0001,\n",
    "        max_lr: float = 0.001,\n",
    "        final_lr: float = 0.0001,\n",
    "        X_d_transform: ScaleTransform | None = None,\n",
    "    ):\n",
    "        super().__init__(\n",
    "            message_passing,\n",
    "            agg,\n",
    "            predictor,\n",
    "            batch_norm,\n",
    "            metrics,\n",
    "            warmup_epochs,\n",
    "            init_lr,\n",
    "            max_lr,\n",
    "            final_lr,\n",
    "            X_d_transform,\n",
    "        )\n",
    "        \n",
    "        self.clf = torch.nn.Sequential(\n",
    "            torch.nn.Linear(600, 300),\n",
    "            torch.nn.ReLU(),\n",
    "            torch.nn.Linear(300, 1),\n",
    "            torch.nn.Sigmoid()\n",
    "        )\n",
    "        self.loss_fn = torch.nn.BCELoss()\n",
    "\n",
    "\n",
    "    def embed_simple_batch(self, batch: data.collate.TrainingBatch):\n",
    "        bmg, V_d, X_d, target, _, _, _ = batch\n",
    "        Z_anchor = self.encoding(bmg, V_d, X_d)\n",
    "        return dict(embeds=Z_anchor, targets=target)\n",
    "    \n",
    "\n",
    "    def get_loss(self, batch: RandomPairTrainBatch):\n",
    "        bmg, V_d, X_d, target_left, _, _, _ = batch.left\n",
    "        Z_left = self.encoding(bmg, V_d, X_d)\n",
    "\n",
    "        bmg, V_d, X_d, target_right, _, _, _ = batch.right\n",
    "        Z_right = self.encoding(bmg, V_d, X_d)\n",
    "\n",
    "        mask = target_left > target_right # type: ignore\n",
    "        \n",
    "        Z_combined = torch.cat([Z_left, Z_right], axis=-1) # type: ignore\n",
    "        logits = self.clf(Z_combined).squeeze()\n",
    "        labels = torch.where(mask, 1.0, 0.0)\n",
    "        loss = self.loss_fn(logits, labels)\n",
    "\n",
    "        Z_combined = torch.cat([Z_right, Z_left], axis=-1) # type: ignore\n",
    "        logits = self.clf(Z_combined).squeeze()\n",
    "        inv_labels = torch.where(~mask, 1.0, 0.0)\n",
    "        inv_loss = self.loss_fn(logits, inv_labels)\n",
    "        return loss + inv_loss\n",
    "\n",
    "\n",
    "    def training_step(self, batch: RandomPairTrainBatch, batch_idx):  # type: ignore\n",
    "        loss = self.get_loss(batch)\n",
    "        self.log(\"train_loss\", loss, batch_size=batch.batch_size(), prog_bar=True, on_epoch=True)\n",
    "        return loss\n",
    "\n",
    "    def validation_step(self, batch: RandomPairTrainBatch, batch_idx):  # type: ignore\n",
    "        loss = self.get_loss(batch)\n",
    "        self.log(\"val_loss\", loss, batch_size=batch.batch_size())\n",
    "        return loss"
   ]
  },
  {
   "cell_type": "code",
   "execution_count": 17,
   "id": "f8594915",
   "metadata": {},
   "outputs": [],
   "source": [
    "fdims = featurizers.SimpleMoleculeMolGraphFeaturizer().shape # the dimensions of the featurizer, given as (atom_dims, bond_dims).\n",
    "mp = chem_nn.BondMessagePassing()\n",
    "agg = chem_nn.NormAggregation()\n",
    "ffn = chem_nn.BinaryClassificationFFN(n_tasks=1)\n",
    "batch_norm = True\n",
    "metric_list = [chem_nn.metrics.BinaryF1Score(), chem_nn.metrics.BinaryAUPRC(), chem_nn.metrics.BinaryAUROC()]\n",
    "contrastive_mpnn = ContrastiveMPNN(mp, agg, ffn, batch_norm, metric_list)"
   ]
  },
  {
   "cell_type": "code",
   "execution_count": 18,
   "id": "2e0455da",
   "metadata": {},
   "outputs": [
    {
     "data": {
      "text/html": [
       "Tracking run with wandb version 0.21.0"
      ],
      "text/plain": [
       "<IPython.core.display.HTML object>"
      ]
     },
     "metadata": {},
     "output_type": "display_data"
    },
    {
     "data": {
      "text/html": [
       "Run data is saved locally in <code>./wandb/run-20251010_224008-us918ny1</code>"
      ],
      "text/plain": [
       "<IPython.core.display.HTML object>"
      ]
     },
     "metadata": {},
     "output_type": "display_data"
    },
    {
     "data": {
      "text/html": [
       "Syncing run <strong><a href='https://wandb.ai/rahul-e-dev/chemprop_delta_clf/runs/us918ny1' target=\"_blank\">sweet-bee-138</a></strong> to <a href='https://wandb.ai/rahul-e-dev/chemprop_delta_clf' target=\"_blank\">Weights & Biases</a> (<a href='https://wandb.me/developer-guide' target=\"_blank\">docs</a>)<br>"
      ],
      "text/plain": [
       "<IPython.core.display.HTML object>"
      ]
     },
     "metadata": {},
     "output_type": "display_data"
    },
    {
     "data": {
      "text/html": [
       " View project at <a href='https://wandb.ai/rahul-e-dev/chemprop_delta_clf' target=\"_blank\">https://wandb.ai/rahul-e-dev/chemprop_delta_clf</a>"
      ],
      "text/plain": [
       "<IPython.core.display.HTML object>"
      ]
     },
     "metadata": {},
     "output_type": "display_data"
    },
    {
     "data": {
      "text/html": [
       " View run at <a href='https://wandb.ai/rahul-e-dev/chemprop_delta_clf/runs/us918ny1' target=\"_blank\">https://wandb.ai/rahul-e-dev/chemprop_delta_clf/runs/us918ny1</a>"
      ],
      "text/plain": [
       "<IPython.core.display.HTML object>"
      ]
     },
     "metadata": {},
     "output_type": "display_data"
    },
    {
     "name": "stderr",
     "output_type": "stream",
     "text": [
      "GPU available: True (cuda), used: True\n",
      "TPU available: False, using: 0 TPU cores\n",
      "HPU available: False, using: 0 HPUs\n",
      "LOCAL_RANK: 0 - CUDA_VISIBLE_DEVICES: [0]\n",
      "Loading `train_dataloader` to estimate number of stepping batches.\n",
      "\n",
      "  | Name            | Type                    | Params | Mode \n",
      "--------------------------------------------------------------------\n",
      "0 | message_passing | BondMessagePassing      | 227 K  | train\n",
      "1 | agg             | NormAggregation         | 0      | train\n",
      "2 | bn              | BatchNorm1d             | 600    | train\n",
      "3 | predictor       | BinaryClassificationFFN | 90.6 K | train\n",
      "4 | X_d_transform   | Identity                | 0      | train\n",
      "5 | metrics         | ModuleList              | 0      | train\n",
      "6 | clf             | Sequential              | 180 K  | train\n",
      "7 | loss_fn         | BCELoss                 | 0      | train\n",
      "--------------------------------------------------------------------\n",
      "499 K     Trainable params\n",
      "0         Non-trainable params\n",
      "499 K     Total params\n",
      "1.998     Total estimated model params size (MB)\n",
      "32        Modules in train mode\n",
      "0         Modules in eval mode\n"
     ]
    },
    {
     "data": {
      "application/vnd.jupyter.widget-view+json": {
       "model_id": "cee8a89f46874d87ab4c32c14641805f",
       "version_major": 2,
       "version_minor": 0
      },
      "text/plain": [
       "Sanity Checking: |          | 0/? [00:00<?, ?it/s]"
      ]
     },
     "metadata": {},
     "output_type": "display_data"
    },
    {
     "data": {
      "application/vnd.jupyter.widget-view+json": {
       "model_id": "9fa73a4de40f4ca19103f8213665cc7b",
       "version_major": 2,
       "version_minor": 0
      },
      "text/plain": [
       "Training: |          | 0/? [00:00<?, ?it/s]"
      ]
     },
     "metadata": {},
     "output_type": "display_data"
    },
    {
     "data": {
      "application/vnd.jupyter.widget-view+json": {
       "model_id": "d12649c626b948539b1590fedc2031f3",
       "version_major": 2,
       "version_minor": 0
      },
      "text/plain": [
       "Validation: |          | 0/? [00:00<?, ?it/s]"
      ]
     },
     "metadata": {},
     "output_type": "display_data"
    },
    {
     "name": "stderr",
     "output_type": "stream",
     "text": [
      "Metric val_loss improved. New best score: 1.227\n"
     ]
    },
    {
     "data": {
      "application/vnd.jupyter.widget-view+json": {
       "model_id": "66923048e9e3408f8696b089b719e3b2",
       "version_major": 2,
       "version_minor": 0
      },
      "text/plain": [
       "Validation: |          | 0/? [00:00<?, ?it/s]"
      ]
     },
     "metadata": {},
     "output_type": "display_data"
    },
    {
     "name": "stderr",
     "output_type": "stream",
     "text": [
      "Metric val_loss improved by 0.032 >= min_delta = 0.0. New best score: 1.195\n"
     ]
    },
    {
     "data": {
      "application/vnd.jupyter.widget-view+json": {
       "model_id": "967f930e93c2405cb36bdf239944ea69",
       "version_major": 2,
       "version_minor": 0
      },
      "text/plain": [
       "Validation: |          | 0/? [00:00<?, ?it/s]"
      ]
     },
     "metadata": {},
     "output_type": "display_data"
    },
    {
     "name": "stderr",
     "output_type": "stream",
     "text": [
      "Metric val_loss improved by 0.013 >= min_delta = 0.0. New best score: 1.183\n"
     ]
    },
    {
     "data": {
      "application/vnd.jupyter.widget-view+json": {
       "model_id": "1cc0af5c6da241c4b76cfac7e28c0f26",
       "version_major": 2,
       "version_minor": 0
      },
      "text/plain": [
       "Validation: |          | 0/? [00:00<?, ?it/s]"
      ]
     },
     "metadata": {},
     "output_type": "display_data"
    },
    {
     "name": "stderr",
     "output_type": "stream",
     "text": [
      "Metric val_loss improved by 0.003 >= min_delta = 0.0. New best score: 1.179\n"
     ]
    },
    {
     "data": {
      "application/vnd.jupyter.widget-view+json": {
       "model_id": "60703c71f6164889a5202ccd928225e0",
       "version_major": 2,
       "version_minor": 0
      },
      "text/plain": [
       "Validation: |          | 0/? [00:00<?, ?it/s]"
      ]
     },
     "metadata": {},
     "output_type": "display_data"
    },
    {
     "data": {
      "application/vnd.jupyter.widget-view+json": {
       "model_id": "f81f3e7e97af4a45bc7d82fa5e43d99b",
       "version_major": 2,
       "version_minor": 0
      },
      "text/plain": [
       "Validation: |          | 0/? [00:00<?, ?it/s]"
      ]
     },
     "metadata": {},
     "output_type": "display_data"
    },
    {
     "name": "stderr",
     "output_type": "stream",
     "text": [
      "Metric val_loss improved by 0.057 >= min_delta = 0.0. New best score: 1.122\n"
     ]
    },
    {
     "data": {
      "application/vnd.jupyter.widget-view+json": {
       "model_id": "7c9da981a72645d7a8c280ab93696e39",
       "version_major": 2,
       "version_minor": 0
      },
      "text/plain": [
       "Validation: |          | 0/? [00:00<?, ?it/s]"
      ]
     },
     "metadata": {},
     "output_type": "display_data"
    },
    {
     "data": {
      "application/vnd.jupyter.widget-view+json": {
       "model_id": "d66913757f174c0bb1ff987e341ef600",
       "version_major": 2,
       "version_minor": 0
      },
      "text/plain": [
       "Validation: |          | 0/? [00:00<?, ?it/s]"
      ]
     },
     "metadata": {},
     "output_type": "display_data"
    },
    {
     "data": {
      "application/vnd.jupyter.widget-view+json": {
       "model_id": "6936997df0874902b2ffd7a698c594c4",
       "version_major": 2,
       "version_minor": 0
      },
      "text/plain": [
       "Validation: |          | 0/? [00:00<?, ?it/s]"
      ]
     },
     "metadata": {},
     "output_type": "display_data"
    },
    {
     "data": {
      "application/vnd.jupyter.widget-view+json": {
       "model_id": "d43037404fd34c5b99aee0e77cafaec1",
       "version_major": 2,
       "version_minor": 0
      },
      "text/plain": [
       "Validation: |          | 0/? [00:00<?, ?it/s]"
      ]
     },
     "metadata": {},
     "output_type": "display_data"
    },
    {
     "data": {
      "application/vnd.jupyter.widget-view+json": {
       "model_id": "fb4a4023c71e46cdad41a3e7a8a47e4d",
       "version_major": 2,
       "version_minor": 0
      },
      "text/plain": [
       "Validation: |          | 0/? [00:00<?, ?it/s]"
      ]
     },
     "metadata": {},
     "output_type": "display_data"
    },
    {
     "data": {
      "application/vnd.jupyter.widget-view+json": {
       "model_id": "7eb7c295521845789d76ac50302630d2",
       "version_major": 2,
       "version_minor": 0
      },
      "text/plain": [
       "Validation: |          | 0/? [00:00<?, ?it/s]"
      ]
     },
     "metadata": {},
     "output_type": "display_data"
    },
    {
     "data": {
      "application/vnd.jupyter.widget-view+json": {
       "model_id": "fcffbc12acfd411191497c9269d81e12",
       "version_major": 2,
       "version_minor": 0
      },
      "text/plain": [
       "Validation: |          | 0/? [00:00<?, ?it/s]"
      ]
     },
     "metadata": {},
     "output_type": "display_data"
    },
    {
     "data": {
      "application/vnd.jupyter.widget-view+json": {
       "model_id": "97b53c891f5c41f89ebf640a56df66aa",
       "version_major": 2,
       "version_minor": 0
      },
      "text/plain": [
       "Validation: |          | 0/? [00:00<?, ?it/s]"
      ]
     },
     "metadata": {},
     "output_type": "display_data"
    },
    {
     "data": {
      "application/vnd.jupyter.widget-view+json": {
       "model_id": "e604b1a9e68341a3b4c50646f802de06",
       "version_major": 2,
       "version_minor": 0
      },
      "text/plain": [
       "Validation: |          | 0/? [00:00<?, ?it/s]"
      ]
     },
     "metadata": {},
     "output_type": "display_data"
    },
    {
     "data": {
      "application/vnd.jupyter.widget-view+json": {
       "model_id": "3623e3ba861a488e9f0ebdf3351725a9",
       "version_major": 2,
       "version_minor": 0
      },
      "text/plain": [
       "Validation: |          | 0/? [00:00<?, ?it/s]"
      ]
     },
     "metadata": {},
     "output_type": "display_data"
    },
    {
     "name": "stderr",
     "output_type": "stream",
     "text": [
      "Monitored metric val_loss did not improve in the last 10 records. Best score: 1.122. Signaling Trainer to stop.\n"
     ]
    }
   ],
   "source": [
    "wandb.finish()\n",
    "wandb_logger = WandbLogger(project=\"chemprop_delta_clf\", log_model=\"all\", save_code=True)\n",
    "wandb_logger.experiment.mark_preempting()\n",
    "\n",
    "trainer = L.Trainer(\n",
    "    logger=wandb_logger,\n",
    "    enable_checkpointing=True,  # Use `True` if you want to save model checkpoints. The checkpoints will be saved in the `checkpoints` folder.\n",
    "    enable_progress_bar=True,\n",
    "    accelerator=\"auto\",\n",
    "    devices=1,\n",
    "    max_epochs=50,  # number of epochs to train for\n",
    "    reload_dataloaders_every_n_epochs=1,\n",
    "    log_every_n_steps=50,\n",
    "    callbacks=[\n",
    "        EarlyStopping(monitor=\"val_loss\", mode=\"min\", verbose=True, patience=10),\n",
    "        ModelCheckpoint(monitor=\"val_loss\", mode=\"min\", save_top_k=2)\n",
    "    ]\n",
    ")\n",
    "\n",
    "trainer.fit(contrastive_mpnn, datamodule=RandomPairDataModule(train_mol_dataset, val_mol_dataset))"
   ]
  },
  {
   "cell_type": "code",
   "execution_count": 19,
   "id": "ad280da4",
   "metadata": {},
   "outputs": [
    {
     "name": "stderr",
     "output_type": "stream",
     "text": [
      "\u001b[34m\u001b[1mwandb\u001b[0m: \u001b[32m\u001b[41mERROR\u001b[0m The nbformat package was not found. It is required to save notebook history.\n"
     ]
    },
    {
     "data": {
      "text/html": [],
      "text/plain": [
       "<IPython.core.display.HTML object>"
      ]
     },
     "metadata": {},
     "output_type": "display_data"
    },
    {
     "data": {
      "text/html": [
       "<br>    <style><br>        .wandb-row {<br>            display: flex;<br>            flex-direction: row;<br>            flex-wrap: wrap;<br>            justify-content: flex-start;<br>            width: 100%;<br>        }<br>        .wandb-col {<br>            display: flex;<br>            flex-direction: column;<br>            flex-basis: 100%;<br>            flex: 1;<br>            padding: 10px;<br>        }<br>    </style><br><div class=\"wandb-row\"><div class=\"wandb-col\"><h3>Run history:</h3><br/><table class=\"wandb\"><tr><td>epoch</td><td>▁▁▁▁▁▂▂▂▂▂▃▃▃▃▃▄▄▄▄▄▅▅▅▅▅▅▆▆▆▆▇▇▇▇▇█████</td></tr><tr><td>train_loss_epoch</td><td>█▇▆▆▆▅▅▄▄▄▃▃▂▂▁▁</td></tr><tr><td>train_loss_step</td><td>█▆▇▇▆▅▆▆▅▅▃▅▃▃▃▇▂▂▃▁▄▁▂▄▃</td></tr><tr><td>trainer/global_step</td><td>▁▁▁▁▂▂▂▂▂▂▃▃▃▃▃▄▄▄▄▄▄▅▅▅▅▅▅▆▆▆▆▇▇▇▇▇▇███</td></tr><tr><td>val_loss</td><td>▅▄▃▃▄▁▄▂▃▂▆▆▄██▅</td></tr></table><br/></div><div class=\"wandb-col\"><h3>Run summary:</h3><br/><table class=\"wandb\"><tr><td>epoch</td><td>15</td></tr><tr><td>train_loss_epoch</td><td>0.83335</td></tr><tr><td>train_loss_step</td><td>0.91378</td></tr><tr><td>trainer/global_step</td><td>1295</td></tr><tr><td>val_loss</td><td>1.24536</td></tr></table><br/></div></div>"
      ],
      "text/plain": [
       "<IPython.core.display.HTML object>"
      ]
     },
     "metadata": {},
     "output_type": "display_data"
    },
    {
     "data": {
      "text/html": [
       " View run <strong style=\"color:#cdcd00\">sweet-bee-138</strong> at: <a href='https://wandb.ai/rahul-e-dev/chemprop_delta_clf/runs/us918ny1' target=\"_blank\">https://wandb.ai/rahul-e-dev/chemprop_delta_clf/runs/us918ny1</a><br> View project at: <a href='https://wandb.ai/rahul-e-dev/chemprop_delta_clf' target=\"_blank\">https://wandb.ai/rahul-e-dev/chemprop_delta_clf</a><br>Synced 6 W&B file(s), 0 media file(s), 16 artifact file(s) and 0 other file(s)"
      ],
      "text/plain": [
       "<IPython.core.display.HTML object>"
      ]
     },
     "metadata": {},
     "output_type": "display_data"
    },
    {
     "data": {
      "text/html": [
       "Find logs at: <code>./wandb/run-20251010_224008-us918ny1/logs</code>"
      ],
      "text/plain": [
       "<IPython.core.display.HTML object>"
      ]
     },
     "metadata": {},
     "output_type": "display_data"
    }
   ],
   "source": [
    "wandb.finish()"
   ]
  },
  {
   "cell_type": "code",
   "execution_count": null,
   "id": "4e9ac66e",
   "metadata": {},
   "outputs": [],
   "source": []
  }
 ],
 "metadata": {
  "kernelspec": {
   "display_name": "delta",
   "language": "python",
   "name": "python3"
  },
  "language_info": {
   "codemirror_mode": {
    "name": "ipython",
    "version": 3
   },
   "file_extension": ".py",
   "mimetype": "text/x-python",
   "name": "python",
   "nbconvert_exporter": "python",
   "pygments_lexer": "ipython3",
   "version": "3.12.11"
  }
 },
 "nbformat": 4,
 "nbformat_minor": 5
}
